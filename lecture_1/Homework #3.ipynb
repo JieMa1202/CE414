{
 "cells": [
  {
   "cell_type": "code",
   "execution_count": 17,
   "id": "115c0051",
   "metadata": {},
   "outputs": [],
   "source": [
    "import math\n",
    "import nbimporter\n",
    "import PsychrometricProperty as psy"
   ]
  },
  {
   "cell_type": "markdown",
   "id": "8f9c9a48",
   "metadata": {},
   "source": [
    "# Homework #3"
   ]
  },
  {
   "cell_type": "markdown",
   "id": "5c266785",
   "metadata": {},
   "source": [
    "### Problem 5.19\n",
    "A 4000 ft3 room is maintained at 70 F, 50% relative humidity, and 14.7 psia. Mechanical ventilation is provided by a central system, while heating and humidification are performed locally at the zone. The ventilation air is provided at 40 F and 30% relative humidity with a flow rate of 50 cfm. There is a total heat loss from the space through the walls of 5000 Btu/hr. A humidifier adds moisture in the form of saturated vapor at 212 F. Assuming the room air is fully mixed, determine the following: \n",
    "a. the amount of moisture addition necessary.\\\n",
    "b. the amount of heating required\\\n",
    "c. The mass of water vapor within the room.\\\n",
    "d. the temperature of surfaces within the room at which moisture will condense. \n",
    "e. a plot of the process on psychrometric coordinates \n",
    "f. Draw some conclusions from your results. \n"
   ]
  },
  {
   "cell_type": "markdown",
   "id": "a3c01938",
   "metadata": {},
   "source": [
    "#### Solutions:"
   ]
  },
  {
   "cell_type": "markdown",
   "id": "38578b3f",
   "metadata": {},
   "source": [
    "List all the given information:"
   ]
  },
  {
   "cell_type": "code",
   "execution_count": 42,
   "id": "4853f043",
   "metadata": {},
   "outputs": [],
   "source": [
    "\n",
    "P_atm = 14.7 # psia\n",
    "V_z = 4000 # ft^3\n",
    "T_z = 70 # space zone teperature, F\n",
    "RH_z = 50 # spce zone humidity, %\n",
    "\n",
    "T_SA = 40 # supply air temperature, F\n",
    "RH_SA = 30 # supply air humidity, %\n",
    "V_dot_SA = 50 # supply air volume flow rate\n",
    "\n",
    "q_loss = 5000 # Btu/hr\n",
    "T_s = 212 # saturated vapor temperature,F\n",
    "h_s = 1150 # saturated vapor enthalpy,btu/hr"
   ]
  },
  {
   "cell_type": "markdown",
   "id": "21563ae3",
   "metadata": {},
   "source": [
    "Determine the state for space zone and supply air"
   ]
  },
  {
   "cell_type": "code",
   "execution_count": 43,
   "id": "f904caea",
   "metadata": {},
   "outputs": [],
   "source": [
    "h_z = psy.h_ptr(P_atm,T_z,RH_z) # enthalpy of space air, btu/hr\n",
    "w_z = psy.W_ptr(P_atm,T_z,RH_z) # humidity ratio of space air, lbm_w/lbm_a\n",
    "v_z = psy.v_ptr(P_atm,T_z,RH_z) # specifiv volume of space air, ft^3/lb\n",
    "\n",
    "h_SA = psy.h_ptr(P_atm,T_SA,RH_SA) # enthalpy of supply air, btu/hr\n",
    "w_SA = psy.W_ptr(P_atm,T_SA,RH_SA) # humidity ratio of supply air, lbm_w/lbm_a\n",
    "v_SA = psy.v_ptr(P_atm,T_SA,RH_SA) # specifiv volume of supply air, ft^3/lb"
   ]
  },
  {
   "cell_type": "markdown",
   "id": "6c26f900",
   "metadata": {},
   "source": [
    "Calculate the mass of air in the space and mass flow rate of supply air"
   ]
  },
  {
   "cell_type": "code",
   "execution_count": 49,
   "id": "dc83bfb8",
   "metadata": {},
   "outputs": [],
   "source": [
    "M_z = V_z /v_z # mass of air in space, lb/hr\n",
    "m_dot_SA = V_dot_SA * 60/v_SA # mass flow rate of supply air, lb/hr"
   ]
  },
  {
   "cell_type": "markdown",
   "id": "402ce5d1",
   "metadata": {},
   "source": [
    "Based on the conservation of mass of mositure:\n",
    "$$\\dot{m}_{SA} w_{SA} + \\dot{m}_s = \\dot{m}_{SA} w_{z}$$\n",
    "The amount of moisture is:\n",
    "$$\\dot{m}_s = \\dot{m}_{SA} (w_{z}-w_{SA})$$\n",
    "a) the amount of moisture required:"
   ]
  },
  {
   "cell_type": "code",
   "execution_count": 45,
   "id": "2a2c67dd",
   "metadata": {},
   "outputs": [
    {
     "name": "stdout",
     "output_type": "stream",
     "text": [
      "a) The amount of moisture is: 1.4812584714955404 lbm/hr\n"
     ]
    }
   ],
   "source": [
    "m_dot_s = m_dot_SA * (w_z-w_SA)\n",
    "print('a) The amount of moisture is:', m_dot_s, 'lbm/hr')"
   ]
  },
  {
   "cell_type": "markdown",
   "id": "3cc1555c",
   "metadata": {},
   "source": [
    "Based on the conservation of energy :\n",
    "$$\\dot{m}_{SA} h_{SA} + \\dot{m}_s h_s + \\dot{q}_{heat} = \\dot{m}_{SA} h_{z} + \\dot{q}_{loss}$$\n",
    "b) the amount of heating required is:\n",
    "$$\\dot{q}_{heat} = \\dot{m}_{SA} h_{z} + \\dot{q}_{loss}-\\dot{m}_{SA} h_{SA} - \\dot{m}_s h_s $$"
   ]
  },
  {
   "cell_type": "code",
   "execution_count": 46,
   "id": "a9736ca8",
   "metadata": {},
   "outputs": [
    {
     "name": "stdout",
     "output_type": "stream",
     "text": [
      "b) The amount of heating required is 6630.373251292586 Btu/hr\n"
     ]
    }
   ],
   "source": [
    "q_dot_heat = m_dot_SA*h_z + q_loss - m_dot_SA*h_SA - m_dot_s*h_s\n",
    "print('b) The amount of heating required is', q_dot_heat,'Btu/hr')"
   ]
  },
  {
   "cell_type": "markdown",
   "id": "897564f7",
   "metadata": {},
   "source": [
    "c) The mass of water vapor within the room."
   ]
  },
  {
   "cell_type": "code",
   "execution_count": 51,
   "id": "e1fb7f34",
   "metadata": {},
   "outputs": [
    {
     "name": "stdout",
     "output_type": "stream",
     "text": [
      "c) The mass of water vapor within the room is 2.303159746192362 lbm\n"
     ]
    }
   ],
   "source": [
    "M_w = M_z * w_z\n",
    "print('c) The mass of water vapor within the room is', M_w, 'lbm')"
   ]
  },
  {
   "cell_type": "markdown",
   "id": "68355529",
   "metadata": {},
   "source": [
    "d) the temperature of surfaces within the room at which moisture will condense is the dewpoint temperature at the zone space temperature and humidity."
   ]
  },
  {
   "cell_type": "code",
   "execution_count": 52,
   "id": "ed108b1a",
   "metadata": {},
   "outputs": [
    {
     "name": "stdout",
     "output_type": "stream",
     "text": [
      "d)the temperature of surfaces within the room at which moisture will condense is 50.59130226051858 F\n"
     ]
    }
   ],
   "source": [
    "T_dp_z = psy.Tdp_ptr(P_atm,T_z,RH_z) #F\n",
    "print('d)the temperature of surfaces within the room at which moisture will condense is', T_dp_z,'F')"
   ]
  },
  {
   "cell_type": "markdown",
   "id": "9545cf16",
   "metadata": {},
   "source": [
    "### Problem 3"
   ]
  }
 ],
 "metadata": {
  "kernelspec": {
   "display_name": "ce414-env",
   "language": "python",
   "name": "python3"
  },
  "language_info": {
   "codemirror_mode": {
    "name": "ipython",
    "version": 3
   },
   "file_extension": ".py",
   "mimetype": "text/x-python",
   "name": "python",
   "nbconvert_exporter": "python",
   "pygments_lexer": "ipython3",
   "version": "3.10.16"
  }
 },
 "nbformat": 4,
 "nbformat_minor": 5
}
