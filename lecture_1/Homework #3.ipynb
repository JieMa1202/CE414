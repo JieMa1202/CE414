{
 "cells": [
  {
   "cell_type": "code",
   "execution_count": 17,
   "id": "115c0051",
   "metadata": {},
   "outputs": [],
   "source": [
    "import math\n",
    "import nbimporter\n",
    "import PsychrometricProperty as psy"
   ]
  },
  {
   "cell_type": "markdown",
   "id": "8f9c9a48",
   "metadata": {},
   "source": [
    "# Homework #3"
   ]
  },
  {
   "cell_type": "markdown",
   "id": "5c266785",
   "metadata": {},
   "source": [
    "### Problem 5.19\n",
    "A 4000 ft3 room is maintained at 70 F, 50% relative humidity, and 14.7 psia. Mechanical ventilation is provided by a central system, while heating and humidification are performed locally at the zone. The ventilation air is provided at 40 F and 30% relative humidity with a flow rate of 50 cfm. There is a total heat loss from the space through the walls of 5000 Btu/hr. A humidifier adds moisture in the form of saturated vapor at 212 F. Assuming the room air is fully mixed, determine the following: \n",
    "a. the amount of moisture addition necessary.\\\n",
    "b. the amount of heating required\\\n",
    "c. The mass of water vapor within the room.\\\n",
    "d. the temperature of surfaces within the room at which moisture will condense. \n",
    "e. a plot of the process on psychrometric coordinates \n",
    "f. Draw some conclusions from your results. \n"
   ]
  },
  {
   "cell_type": "markdown",
   "id": "a3c01938",
   "metadata": {},
   "source": [
    "#### Solutions:"
   ]
  },
  {
   "cell_type": "markdown",
   "id": "38578b3f",
   "metadata": {},
   "source": [
    "List all the given information:"
   ]
  },
  {
   "cell_type": "code",
   "execution_count": 53,
   "id": "4853f043",
   "metadata": {},
   "outputs": [],
   "source": [
    "\n",
    "P_atm = 14.7 # psia\n",
    "V_z = 4000 # ft^3\n",
    "T_z = 70 # space zone teperature, F\n",
    "RH_z = 50 # spce zone humidity, %\n",
    "\n",
    "T_SA = 40 # supply air temperature, F\n",
    "RH_SA = 30 # supply air humidity, %\n",
    "V_dot_SA = 50 # supply air volume flow rate\n",
    "\n",
    "q_loss = 5000 # Btu/hr\n",
    "T_s = 212 # saturated vapor temperature,F\n",
    "h_s = 1150 # saturated vapor enthalpy,btu/hr"
   ]
  },
  {
   "cell_type": "markdown",
   "id": "21563ae3",
   "metadata": {},
   "source": [
    "Determine the state for space zone and supply air"
   ]
  },
  {
   "cell_type": "code",
   "execution_count": 54,
   "id": "f904caea",
   "metadata": {},
   "outputs": [],
   "source": [
    "h_z = psy.h_ptr(P_atm,T_z,RH_z) # enthalpy of space air, btu/hr\n",
    "w_z = psy.W_ptr(P_atm,T_z,RH_z) # humidity ratio of space air, lbm_w/lbm_a\n",
    "v_z = psy.v_ptr(P_atm,T_z,RH_z) # specifiv volume of space air, ft^3/lb\n",
    "\n",
    "h_SA = psy.h_ptr(P_atm,T_SA,RH_SA) # enthalpy of supply air, btu/hr\n",
    "w_SA = psy.W_ptr(P_atm,T_SA,RH_SA) # humidity ratio of supply air, lbm_w/lbm_a\n",
    "v_SA = psy.v_ptr(P_atm,T_SA,RH_SA) # specifiv volume of supply air, ft^3/lb"
   ]
  },
  {
   "cell_type": "markdown",
   "id": "6c26f900",
   "metadata": {},
   "source": [
    "Calculate the mass of air in the space and mass flow rate of supply air"
   ]
  },
  {
   "cell_type": "code",
   "execution_count": 55,
   "id": "dc83bfb8",
   "metadata": {},
   "outputs": [],
   "source": [
    "M_z = V_z /v_z # mass of air in space, lb/hr\n",
    "m_dot_SA = V_dot_SA * 60/v_SA # mass flow rate of supply air, lb/hr"
   ]
  },
  {
   "cell_type": "markdown",
   "id": "402ce5d1",
   "metadata": {},
   "source": [
    "Based on the conservation of mass of mositure:\n",
    "$$\\dot{m}_{SA} w_{SA} + \\dot{m}_s = \\dot{m}_{SA} w_{z}$$\n",
    "The amount of moisture is:\n",
    "$$\\dot{m}_s = \\dot{m}_{SA} (w_{z}-w_{SA})$$\n",
    "a) the amount of moisture required:"
   ]
  },
  {
   "cell_type": "code",
   "execution_count": 56,
   "id": "2a2c67dd",
   "metadata": {},
   "outputs": [
    {
     "name": "stdout",
     "output_type": "stream",
     "text": [
      "a) The amount of moisture is: 1.4812584714955404 lbm/hr\n"
     ]
    }
   ],
   "source": [
    "m_dot_s = m_dot_SA * (w_z-w_SA)\n",
    "print('a) The amount of moisture is:', m_dot_s, 'lbm/hr')"
   ]
  },
  {
   "cell_type": "markdown",
   "id": "3cc1555c",
   "metadata": {},
   "source": [
    "Based on the conservation of energy :\n",
    "$$\\dot{m}_{SA} h_{SA} + \\dot{m}_s h_s + \\dot{q}_{heat} = \\dot{m}_{SA} h_{z} + \\dot{q}_{loss}$$\n",
    "b) the amount of heating required is:\n",
    "$$\\dot{q}_{heat} = \\dot{m}_{SA} h_{z} + \\dot{q}_{loss}-\\dot{m}_{SA} h_{SA} - \\dot{m}_s h_s $$"
   ]
  },
  {
   "cell_type": "code",
   "execution_count": 57,
   "id": "a9736ca8",
   "metadata": {},
   "outputs": [
    {
     "name": "stdout",
     "output_type": "stream",
     "text": [
      "b) The amount of heating required is 6630.373251292586 Btu/hr\n"
     ]
    }
   ],
   "source": [
    "q_dot_heat = m_dot_SA*h_z + q_loss - m_dot_SA*h_SA - m_dot_s*h_s\n",
    "print('b) The amount of heating required is', q_dot_heat,'Btu/hr')"
   ]
  },
  {
   "cell_type": "markdown",
   "id": "897564f7",
   "metadata": {},
   "source": [
    "c) The mass of water vapor within the room."
   ]
  },
  {
   "cell_type": "code",
   "execution_count": 58,
   "id": "e1fb7f34",
   "metadata": {},
   "outputs": [
    {
     "name": "stdout",
     "output_type": "stream",
     "text": [
      "c) The mass of water vapor within the room is 2.303159746192362 lbm\n"
     ]
    }
   ],
   "source": [
    "M_w = M_z * w_z\n",
    "print('c) The mass of water vapor within the room is', M_w, 'lbm')"
   ]
  },
  {
   "cell_type": "markdown",
   "id": "68355529",
   "metadata": {},
   "source": [
    "d) the temperature of surfaces within the room at which moisture will condense is the dewpoint temperature at the zone space temperature and humidity."
   ]
  },
  {
   "cell_type": "code",
   "execution_count": 59,
   "id": "ed108b1a",
   "metadata": {},
   "outputs": [
    {
     "name": "stdout",
     "output_type": "stream",
     "text": [
      "d)the temperature of surfaces within the room at which moisture will condense is 50.59130226051858 F\n"
     ]
    }
   ],
   "source": [
    "T_dp_z = psy.Tdp_ptr(P_atm,T_z,RH_z) #F\n",
    "print('d)the temperature of surfaces within the room at which moisture will condense is', T_dp_z,'F')"
   ]
  },
  {
   "cell_type": "markdown",
   "id": "9545cf16",
   "metadata": {},
   "source": [
    "### Problem 3\n",
    "\n",
    "The cooling loads in a commercial building are being met with the help of a dedicated outdoor air system (DOAS) that operates in parallel with a primary cooling coil as shown in the attached schematic. The DOS first dehumidifies the outdoor air (which enters at 90°F dry-bulb, 75°F wet- bull) with the help of a solid desiccant wheel, which lowers the humidity ratio to a final value of 0.009 Ibw/Ibda- This ventilation air is then cooled against the exhaust air using a heat recovery ventilator with 80% sensible effectiveness. The ventilation air is then further cooled with an auxiliary cooling coil before being mixed with the primary air. The primary air is sensibly cooled to a dry-bulb temperature of 67°F. Return air with a mass flow rate of 3084 Ibm/hr is extracted from the space at 81°F dry-bulb and 71°F wet-bulb. Supply air to the space enters at 67°F dry-bulb temperature. The space has a total cooling load of 15,000 Btu/hr. Determine the following:\\\n",
    "a) The sensible heat ratio of the space; \\\n",
    "b) The required outdoor air flow rate (Ib/hr); \\\n",
    "c) The cooling capacity (Btu/hr) of the auxiliary cooling coil and the primary cooling coil; \\\n",
    "d) The drybulb temperature entering/leaving each device in the DOAS; \\\n",
    "e) Plot all processes on a psychrometric chart."
   ]
  },
  {
   "cell_type": "markdown",
   "id": "8900278a",
   "metadata": {},
   "source": []
  },
  {
   "cell_type": "markdown",
   "id": "4d2b7f3b",
   "metadata": {},
   "source": [
    "a)The sensible heat ratio of the space\\\n",
    "$$SHR = \\frac{\\dot{Q}_{sen}}{\\dot{Q}_{total}}$$\n",
    "The sensible heat the used to increase the temperature of air from supply state to the return state. Thus, we can create a point x, which the temperature is equal to the supply air temperature but the humidity ratio is equal to the return air humidity ratio.\n",
    "$$h_x = h@(P_{atm}, T_{SA}, w_{RA})$$\n",
    "The sensible heating load is:\n",
    "$$\\dot{Q}_{sen} = \\dot{m}_{RA} (h_{RA}-h_x)$$\n"
   ]
  },
  {
   "cell_type": "code",
   "execution_count": 64,
   "id": "39a54c48",
   "metadata": {},
   "outputs": [
    {
     "name": "stdout",
     "output_type": "stream",
     "text": [
      "sensible heat load is: 10630.287265747973 Btu/hr\n",
      "SHR is: 0.7086858177165315 Btu/hr\n"
     ]
    }
   ],
   "source": [
    "P_atm = 14.7\n",
    "m_dot_RA = 3084 # mass flow rate of return air, lbm/hr\n",
    "T_db_RA = 81 # return air dry bulb temperature,F\n",
    "T_wb_RA = 71 # return air wet bulb temperature,F\n",
    "T_db_SA = 67 # supply air dry bulb temperature,F\n",
    "W_RA  = psy.W_ptb(P_atm,T_db_RA, T_wb_RA)\n",
    "h_RA  = psy.h_ptb(P_atm,T_db_RA, T_wb_RA)\n",
    "h_x = 0.24 * T_db_SA + W_RA * (1061+0.444*T_db_SA)\n",
    "Q_dot_sen = m_dot_RA * (h_RA - h_x)\n",
    "Q_dot_total = 15000 # total heating load, Btu/hr\n",
    "SHR = Q_dot_sen/Q_dot_total\n",
    "print ('sensible heat load is:',Q_dot_sen,'Btu/hr')\n",
    "print ('SHR is:',SHR,'Btu/hr')"
   ]
  },
  {
   "cell_type": "markdown",
   "id": "df07d09b",
   "metadata": {},
   "source": [
    "b) The psychrometric process of solid desiccant is a decrease in humidity while the dry bulb temperature increases slightly due to the heat released during the adsorption process. Ideally, it can be seen as an isenthalpic process (h is constant)."
   ]
  },
  {
   "cell_type": "markdown",
   "id": "81f83649",
   "metadata": {},
   "source": [
    "Calculate the enthapy of outdoor air"
   ]
  },
  {
   "cell_type": "code",
   "execution_count": 67,
   "id": "a9cd50a7",
   "metadata": {},
   "outputs": [],
   "source": [
    "T_db_OA = 90 # outdoor air dry bulb temperature,F\n",
    "T_wb_OA = 75 # outdoor air wet bulb temperature,F\n",
    "h_OA = psy.h_ptb(P_atm,T_db_OA,T_wb_OA) # outdoor air enthalpy,btu/lb"
   ]
  },
  {
   "cell_type": "markdown",
   "id": "fc9b559d",
   "metadata": {},
   "source": [
    "Determine the temperature flowing out of the solid desiccant"
   ]
  },
  {
   "cell_type": "code",
   "execution_count": 68,
   "id": "eced955a",
   "metadata": {},
   "outputs": [
    {
     "name": "stdout",
     "output_type": "stream",
     "text": [
      "The temperature at the outlet of solid desiccant is 118.08275500316076 F\n"
     ]
    }
   ],
   "source": [
    "h_SD = h_OA # isenthalpic process in solid desiccant\n",
    "W_SD = 0.009 # humidity ratio at the outlet of solid desiccant, lbmw/lbma\n",
    "T_db_SD = (h_SD-1061*W_SD)/(0.24+0.444*W_SD) # temperature at the outlet of solid desiccant\n",
    "print('The temperature at the outlet of solid desiccant is',T_db_SD,'F')"
   ]
  },
  {
   "cell_type": "markdown",
   "id": "8fff23c2",
   "metadata": {},
   "source": [
    "The definition of sensible effectiveness of an heat recovery ventilator (HRV) is:\n",
    "$$\\epsilon_{sen} = \\frac{T_{SD}-T_{VA}}{T_{SD}-T_{RA}}$$\n",
    "so the temperature of outdoor ait flowing out of the HRV:\n",
    "$$T_{VA} = T_{SD} - \\epsilon_{sen} (T_{SD}-T_{RA})$$\n",
    "In HRV, there is no mositure transfer, so the outdoor humidity ratio does not change."
   ]
  },
  {
   "cell_type": "code",
   "execution_count": 69,
   "id": "5123ee6b",
   "metadata": {},
   "outputs": [
    {
     "name": "stdout",
     "output_type": "stream",
     "text": [
      "The temperature of outdoor air at the outlet of HRV is 88.41655100063215 F\n"
     ]
    }
   ],
   "source": [
    "epsilon_sen = 0.8 # HRV sensible effectiveness\n",
    "T_db_VA = T_db_SD - epsilon_sen * (T_db_SD-T_db_RA)\n",
    "\n",
    "print('The temperature of outdoor air at the outlet of HRV is',T_db_VA,'F')"
   ]
  }
 ],
 "metadata": {
  "kernelspec": {
   "display_name": "ce414-env",
   "language": "python",
   "name": "python3"
  },
  "language_info": {
   "codemirror_mode": {
    "name": "ipython",
    "version": 3
   },
   "file_extension": ".py",
   "mimetype": "text/x-python",
   "name": "python",
   "nbconvert_exporter": "python",
   "pygments_lexer": "ipython3",
   "version": "3.10.16"
  }
 },
 "nbformat": 4,
 "nbformat_minor": 5
}
