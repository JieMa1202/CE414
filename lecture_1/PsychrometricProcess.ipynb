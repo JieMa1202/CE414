{
 "cells": [
  {
   "cell_type": "markdown",
   "id": "9e5de03f-5d95-45e8-9c5f-02220bd432a0",
   "metadata": {},
   "source": [
    "# Psychrometric Process"
   ]
  },
  {
   "cell_type": "code",
   "execution_count": 2,
   "id": "8d0b1189-409e-495c-a2fe-d0d7b6e726e3",
   "metadata": {},
   "outputs": [],
   "source": [
    "import math\n",
    "import nbimporter\n",
    "import PsychrometricProperty as psy"
   ]
  },
  {
   "cell_type": "markdown",
   "id": "1984570d",
   "metadata": {},
   "source": [
    "### Example 5. Moist air at 70°F dry-bulb and 45°F wet-bulb temperature is to be processed to a final dew-point temperature of 55°F by adiabatic injection of saturated steam at 230°F. The rate of dry airflow is 200 lbda/min.  Find the final dry-bulb temperature of the moist air and the rate of steam flow required"
   ]
  },
  {
   "cell_type": "code",
   "execution_count": 2,
   "id": "d2489b98-ad7d-4f21-aea3-b41b58f94777",
   "metadata": {},
   "outputs": [],
   "source": [
    "def print_hello():\n",
    "    print(\"hello\")"
   ]
  },
  {
   "cell_type": "markdown",
   "id": "f17a5b3e-5811-46d0-97c6-61ac0e8ec9c8",
   "metadata": {},
   "source": [
    "### Code"
   ]
  },
  {
   "cell_type": "code",
   "execution_count": 4,
   "id": "6cfeac6f-8aca-4498-acb6-029e05990ca3",
   "metadata": {},
   "outputs": [
    {
     "data": {
      "text/plain": [
       "78.87694941360463"
      ]
     },
     "execution_count": 4,
     "metadata": {},
     "output_type": "execute_result"
    }
   ],
   "source": [
    "l1.Twb_ptr(14.07,95,50)"
   ]
  },
  {
   "cell_type": "code",
   "execution_count": null,
   "id": "027f599c-f8b5-4487-9c43-070753a95c53",
   "metadata": {},
   "outputs": [],
   "source": []
  }
 ],
 "metadata": {
  "kernelspec": {
   "display_name": "Python 3 (ipykernel)",
   "language": "python",
   "name": "python3"
  },
  "language_info": {
   "codemirror_mode": {
    "name": "ipython",
    "version": 3
   },
   "file_extension": ".py",
   "mimetype": "text/x-python",
   "name": "python",
   "nbconvert_exporter": "python",
   "pygments_lexer": "ipython3",
   "version": "3.10.16"
  }
 },
 "nbformat": 4,
 "nbformat_minor": 5
}
