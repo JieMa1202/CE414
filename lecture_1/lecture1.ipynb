{
 "cells": [
  {
   "cell_type": "markdown",
   "id": "db448c9b-7dee-4a28-8809-13a84d727444",
   "metadata": {},
   "source": [
    "## Examples"
   ]
  },
  {
   "cell_type": "code",
   "execution_count": 1,
   "id": "a6d8567a-8fc7-4ae9-a8b1-b61631524379",
   "metadata": {},
   "outputs": [],
   "source": [
    "import math"
   ]
  },
  {
   "cell_type": "code",
   "execution_count": 2,
   "id": "7b45b3f5",
   "metadata": {},
   "outputs": [],
   "source": [
    "def pws(T):\n",
    "    \"\"\"\n",
    "    Determine the saturation pressure of water vapor at a given temperature, T.\n",
    "\n",
    "    Parameters:\n",
    "        T: Temperature in degrees Fahrenheit [F].\n",
    "    Returns:  Saturation pressure of water vapor in [psia].\n",
    "    \"\"\"\n",
    "    # Convert temperature to absolute temperature [Rankine]\n",
    "    t_abs = T + 459.67\n",
    "\n",
    "    # Initialize coefficients\n",
    "    C = [0] * 8  # Array to hold coefficients C(1) through C(7), indexed from 1\n",
    "\n",
    "    # Set coefficients based on temperature range\n",
    "    if -148 < T < 32:\n",
    "        C[1] = -10214.165\n",
    "        C[2] = -4.8932428\n",
    "        C[3] = -0.0053765794\n",
    "        C[4] = 1.9202377E-07\n",
    "        C[5] = 3.5575832E-10\n",
    "        C[6] = -9.0344688E-14\n",
    "        C[7] = 4.1635019\n",
    "    elif 32 <= T < 392:\n",
    "        C[1] = -10440.397\n",
    "        C[2] = -11.29465\n",
    "        C[3] = -0.027022355\n",
    "        C[4] = 1.289036E-05\n",
    "        C[5] = -2.4780681E-09\n",
    "        C[6] = 0\n",
    "        C[7] = 6.5459673\n",
    "    else:\n",
    "        raise ValueError(\"Temperature out of valid range (-148 < T < 392)\")\n",
    "\n",
    "    # Determine the saturation pressure of saturated water\n",
    "    pws = math.exp(C[1] / t_abs + C[2] + C[3] * t_abs + C[4] * t_abs**2 +\n",
    "              C[5] * t_abs**3 + C[6] * t_abs**4 + C[7] * math.log(t_abs))\n",
    "\n",
    "    return pws"
   ]
  },
  {
   "cell_type": "code",
   "execution_count": 3,
   "id": "6985ddd6",
   "metadata": {},
   "outputs": [],
   "source": [
    "def W_ptr(p, T, r):\n",
    "    \"\"\"\n",
    "    Determine the humidity ratio for air/water vapor.\n",
    "\n",
    "    Parameters:\n",
    "        p (float): Absolute pressure of the mixture [psia].\n",
    "        T (float): Dry bulb temperature [F].\n",
    "        r (float): Relative humidity [%].\n",
    "\n",
    "    Returns:\n",
    "        W (float): Humidity ratio [lb_water/lb_dry_air].\n",
    "    \"\"\"\n",
    "    # Determine the partial pressure of water vapor in the air, [psia]\n",
    "    pw = (r / 100) * pws(T)\n",
    "\n",
    "    # Calculate the humidity ratio\n",
    "    W_ptr = 0.621945 * pw / (p - pw)\n",
    "    return W_ptr"
   ]
  },
  {
   "cell_type": "code",
   "execution_count": 4,
   "id": "d1129588",
   "metadata": {},
   "outputs": [],
   "source": [
    "def Tdp_ptr(p, T, r):\n",
    "    \"\"\"\n",
    "    Determine the dew point temperature for air/water vapor.\n",
    "\n",
    "    Parameters:\n",
    "        p (float): Absolute pressure of the mixture [psia].\n",
    "        T (float): Dry bulb temperature [F].\n",
    "        r (float): Relative humidity [%].\n",
    "\n",
    "    Returns:\n",
    "        float: Dew point temperature [F].\n",
    "    \"\"\"\n",
    "    # Initialize coefficients\n",
    "    C = [0, 100.45, 33.193, 2.319, 0.17074, 1.2063]\n",
    "\n",
    "    # Determine the partial pressure of water vapor in the air, [psia]\n",
    "    pw = (r / 100) * pws(T)\n",
    "    alpha = math.log(pw)\n",
    "\n",
    "    # Initial dew point temperature estimate\n",
    "    Tdp_test = 90.12 + 26.142 * alpha + 0.8972 * alpha**2\n",
    "\n",
    "    if Tdp_test < 32:\n",
    "        T_dp =  Tdp_test\n",
    "        return T_dp\n",
    "    elif 32 <= Tdp_test <= 200:\n",
    "        T_dp =  (C[1] + C[2] * alpha + C[3] * alpha**2 +\n",
    "                C[4] * alpha**3 + C[5] * pw**0.1984)\n",
    "        return T_dp\n",
    "    else:\n",
    "        raise ValueError(\"Dew point temperature out of valid range\")"
   ]
  },
  {
   "cell_type": "code",
   "execution_count": 5,
   "id": "ae6e7216",
   "metadata": {},
   "outputs": [],
   "source": [
    "def h_ptr(p, T, r):\n",
    "    \"\"\"\n",
    "    Determine the enthalpy for air/water vapor.\n",
    "\n",
    "    Parameters:\n",
    "        p (float): Absolute pressure of the mixture [psia].\n",
    "        T (float): Dry bulb temperature [F].\n",
    "        r (float): Relative humidity [%].\n",
    "\n",
    "    Returns:\n",
    "        h_ptr (float): Enthalpy [Btu/lb_da].\n",
    "    \"\"\"\n",
    "    # Determine the humidity ratio\n",
    "    W = W_ptr(p, T, r)\n",
    "\n",
    "    # Calculate the enthalpy\n",
    "    h_ptr = 0.24 * T + W * (1061 + 0.444 * T)\n",
    "    return h_ptr"
   ]
  },
  {
   "cell_type": "markdown",
   "id": "7aa5d9c8",
   "metadata": {},
   "source": []
  },
  {
   "cell_type": "code",
   "execution_count": 6,
   "id": "c701a0c0",
   "metadata": {},
   "outputs": [],
   "source": [
    "def v_ptr(p, T, r):\n",
    "    \"\"\"\n",
    "    Determine the specific volume for air/water vapor.\n",
    "\n",
    "    Parameters:\n",
    "    p (float): Absolute pressure of the mixture [psia]\n",
    "    T (float): Dry-bulb temperature [F]\n",
    "    r (float): Relative humidity [%]\n",
    "\n",
    "    Returns:\n",
    "    float: Specific volume [ft^3/lb_da]\n",
    "    \"\"\"\n",
    "    # Define constants\n",
    "    Rda = 53.34  # [ft*lbf/lbm*R]\n",
    "\n",
    "    # Convert dry-bulb temperature to absolute temperature\n",
    "    t_abs = T + 459.67\n",
    "\n",
    "    # Calculate the partial pressure of water vapor (requires pws function)\n",
    "    pw = (r / 100) * pws(T)  # pws(T) needs to be defined elsewhere\n",
    "\n",
    "    # Calculate specific volume\n",
    "    v = Rda * t_abs / (144 * (p - pw))\n",
    "\n",
    "    return v"
   ]
  },
  {
   "cell_type": "code",
   "execution_count": 7,
   "id": "60f3f37c",
   "metadata": {},
   "outputs": [],
   "source": [
    "def Twb_ptr(p, T, r):\n",
    "    \"\"\"\n",
    "    Determine the wetbulb temperature for air/water vapor.\n",
    "\n",
    "    Parameters:\n",
    "    p (float): Absolute pressure of the mixture [psia]\n",
    "    T (float): Drybulb temperature [F]\n",
    "    r (float): Relative humidity [%]\n",
    "\n",
    "    Returns:\n",
    "    float: Wetbulb temperature [F]\n",
    "    \"\"\"\n",
    "    def Twb_res(p, T, r, Twb):\n",
    "        \"\"\"Residual function used in Newton's method.\"\"\"\n",
    "        if Twb >= 32:\n",
    "            return -W_ptr(p, T, r) + ((1093 - 0.556 * Twb) * W_ptr(p, Twb, 100) - 0.24 * (T - Twb)) / (1093 + 0.444 * T - Twb)\n",
    "        else:\n",
    "            return -W_ptr(p, T, r) + ((1220 - 0.04 * Twb) * W_ptr(p, Twb, 100) - 0.24 * (T - Twb)) / (1220 + 0.444 * T - 0.48 * Twb)\n",
    "\n",
    "    def Twb_res_deriv(p, T, r, Twb):\n",
    "        \"\"\"Derivative of the residual function with respect to Twb.\"\"\"\n",
    "        deltaTwb = 0.1  # [F]\n",
    "        return (Twb_res(p, T, r, Twb + deltaTwb) - Twb_res(p, T, r, Twb - deltaTwb)) / (2 * deltaTwb)\n",
    "\n",
    "    # Initial guess and tolerance for Newton's method\n",
    "    Twb_guess = T\n",
    "    tolerance = 1e-6\n",
    "\n",
    "    # Calculate residual\n",
    "    Residual = Twb_res(p, T, r, Twb_guess)\n",
    "\n",
    "    # Newton's method loop\n",
    "    while abs(Residual) > tolerance:\n",
    "        Twb_next = Twb_guess - Twb_res(p, T, r, Twb_guess) / Twb_res_deriv(p, T, r, Twb_guess)\n",
    "        Twb_guess = Twb_next\n",
    "        Residual = Twb_res(p, T, r, Twb_guess)\n",
    "\n",
    "    return Twb_guess"
   ]
  },
  {
   "cell_type": "code",
   "execution_count": 8,
   "id": "971fd8d4",
   "metadata": {},
   "outputs": [
    {
     "name": "stdout",
     "output_type": "stream",
     "text": [
      "72.45559862274789\n"
     ]
    }
   ],
   "source": [
    "print(Twb_ptr(14.7,80,70))"
   ]
  },
  {
   "cell_type": "markdown",
   "id": "6e3f5756",
   "metadata": {},
   "source": [
    "Example 5. Moist air at 70°F dry-bulb and 45°F wet-bulb temperature is to be processed to a final dew-point temperature of 55°F by adiabatic injection of saturated steam at 230°F. The rate of dry airflow is 200 lbda/min. \n",
    "Find the final dry-bulb temperature of the moist air and the rate of steam flow required"
   ]
  },
  {
   "cell_type": "code",
   "execution_count": 9,
   "id": "9fde3a03",
   "metadata": {},
   "outputs": [],
   "source": [
    "#Solution of example 5\n",
    "T_db_1 = 70 #F\n",
    "T_wb_1 = 45 #F\n",
    "T_dp_2 = 55 #F"
   ]
  }
 ],
 "metadata": {
  "kernelspec": {
   "display_name": "ce414-env",
   "language": "python",
   "name": "python3"
  },
  "language_info": {
   "codemirror_mode": {
    "name": "ipython",
    "version": 3
   },
   "file_extension": ".py",
   "mimetype": "text/x-python",
   "name": "python",
   "nbconvert_exporter": "python",
   "pygments_lexer": "ipython3",
   "version": "3.10.16"
  }
 },
 "nbformat": 4,
 "nbformat_minor": 5
}
