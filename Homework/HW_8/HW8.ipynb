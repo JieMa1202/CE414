{
 "cells": [
  {
   "cell_type": "code",
   "execution_count": 86,
   "metadata": {},
   "outputs": [],
   "source": [
    "import pandas as pd\n",
    "import numpy as np\n",
    "import pylab\n",
    "import matplotlib.pyplot as plt\n",
    "from pandas import DataFrame, Series\n",
    "from sklearn.linear_model import LinearRegression"
   ]
  },
  {
   "cell_type": "code",
   "execution_count": 19,
   "metadata": {},
   "outputs": [
    {
     "name": "stdout",
     "output_type": "stream",
     "text": [
      " IDB  ODB  IWB  Q_tot  Q_sen   W     SHR  \n",
      " 80   75   72  55.79  31.25  3.38 0.560136\n",
      " 80   75   67  50.98  39.68  3.35 0.778344\n",
      " 80   75   63  47.47  38.04  3.32 0.801348\n",
      " 80   75   62  47.80  47.80  3.32 1.000000\n",
      " 80   75   57  47.74  47.74  3.32 1.000000\n",
      " 80   85   72  53.16  30.32  3.69 0.570354\n",
      " 80   85   67  48.62  38.75  3.65 0.796997\n",
      " 80   85   63  45.30  37.12  3.63 0.819426\n",
      " 80   85   62  45.99  45.99  3.63 1.000000\n",
      " 80   85   57  45.93  45.93  3.63 1.000000\n",
      " 80   95   72  50.36  29.34  4.04 0.582605\n",
      " 80   95   67  46.10  37.76  4.01 0.819089\n",
      " 80   95   63  42.98  36.13  3.98 0.840624\n",
      " 80   95   62  44.00  44.00  3.99 1.000000\n",
      " 80   95   57  43.95  43.95  3.99 1.000000\n",
      " 80  105   72  47.31  28.27  4.45 0.597548\n",
      " 80  105   67  43.37  36.69  4.42 0.845976\n",
      " 80  105   63  40.45  35.06  4.39 0.866749\n",
      " 80  105   62  41.81  41.81  4.40 1.000000\n",
      " 80  105   57  41.76  41.76  4.40 1.000000\n",
      " 80  115   72  43.97  27.12  4.92 0.616784\n",
      " 80  115   67  40.37  35.50  4.89 0.879366\n",
      " 80  115   63  37.69  33.87  4.86 0.898647\n",
      " 80  115   62  39.36  39.36  4.88 1.000000\n",
      " 80  115   57  39.32  39.32  4.87 1.000000\n",
      " 80  125   72  40.37  25.89  5.46 0.641318\n",
      " 80  125   67  37.14  34.18  5.42 0.920302\n",
      " 80  125   63  34.70  32.54  5.39 0.937752\n",
      " 80  125   62  36.64  36.64  5.42 1.000000\n",
      " 80  125   57  36.60  36.60  5.41 1.000000\n"
     ]
    }
   ],
   "source": [
    "data_val = DataFrame()\n",
    "data_val = pd.read_csv(\"Carrier_24AHA424A30.csv\")  # open works\n",
    "\n",
    "IDB = np.array(data_val['IDB'])\n",
    "ODB = np.array(data_val['ODB'])\n",
    "IWB = np.array(data_val['IWB'])\n",
    "Q_tot = np.array(data_val['Q_tot'])\n",
    "Q_sen = np.array(data_val['Q_sens'])\n",
    "W = np.array(data_val['W'])\n",
    "SHR = np.array(data_val['SHR'])\n",
    "\n",
    "df = pd.DataFrame({\n",
    "    'IDB': IDB,\n",
    "    'ODB': ODB,\n",
    "    'IWB': IWB,\n",
    "    'Q_tot': Q_tot,\n",
    "    'Q_sen': Q_sen,\n",
    "    'W': W,\n",
    "    'SHR': SHR\n",
    "})\n",
    "\n",
    "# Print the table\n",
    "print(df.to_string(index=False))\n"
   ]
  },
  {
   "cell_type": "code",
   "execution_count": 26,
   "metadata": {},
   "outputs": [
    {
     "name": "stdout",
     "output_type": "stream",
     "text": [
      " IDB  ODB  IWB  Q_tot  Q_sen   W     SHR  \n",
      " 80   75   72  55.79  31.25  3.38 0.560136\n",
      " 80   75   67  50.98  39.68  3.35 0.778344\n",
      " 80   75   63  47.47  38.04  3.32 0.801348\n",
      " 80   85   72  53.16  30.32  3.69 0.570354\n",
      " 80   85   67  48.62  38.75  3.65 0.796997\n",
      " 80   85   63  45.30  37.12  3.63 0.819426\n",
      " 80   95   72  50.36  29.34  4.04 0.582605\n",
      " 80   95   67  46.10  37.76  4.01 0.819089\n",
      " 80   95   63  42.98  36.13  3.98 0.840624\n",
      " 80  105   72  47.31  28.27  4.45 0.597548\n",
      " 80  105   67  43.37  36.69  4.42 0.845976\n",
      " 80  105   63  40.45  35.06  4.39 0.866749\n",
      " 80  115   72  43.97  27.12  4.92 0.616784\n",
      " 80  115   67  40.37  35.50  4.89 0.879366\n",
      " 80  115   63  37.69  33.87  4.86 0.898647\n",
      " 80  125   72  40.37  25.89  5.46 0.641318\n",
      " 80  125   67  37.14  34.18  5.42 0.920302\n",
      " 80  125   63  34.70  32.54  5.39 0.937752\n"
     ]
    }
   ],
   "source": [
    "IDB_wet = IDB[SHR < 1]\n",
    "ODB_wet = ODB[SHR < 1]\n",
    "IWB_wet = IWB[SHR < 1]\n",
    "Q_tot_wet = Q_tot[SHR < 1]\n",
    "Q_sen_wet = Q_sen[SHR < 1]\n",
    "W_wet = W[SHR < 1]\n",
    "SHR_wet = SHR[SHR < 1]\n",
    "\n",
    "df = pd.DataFrame({\n",
    "    'IDB': IDB_wet,\n",
    "    'ODB': ODB_wet,\n",
    "    'IWB': IWB_wet,\n",
    "    'Q_tot': Q_tot_wet,\n",
    "    'Q_sen': Q_sen_wet,\n",
    "    'W': W_wet,\n",
    "    'SHR': SHR_wet\n",
    "})\n",
    "\n",
    "# Print the table\n",
    "print(df.to_string(index=False))"
   ]
  },
  {
   "cell_type": "markdown",
   "metadata": {},
   "source": [
    "#### Correlating System Performance\n",
    "Cooling capacity and power consumption can be correlated for fixed air flow and a wet coil:\n",
    "$$\\frac{\\dot{W}_c}{\\dot{W}_{c,rated}} = a_1 + a_2X + a_3X^2 + a_4Y + a_5Y^2 + a_6XY$$\n",
    "$$\\frac{\\dot{Q}_c}{\\dot{Q}_{c,rated}} = b_1 + b_2X + b_3X^2 + b_4Y + b_5Y^2 + b_6XY$$\n",
    "where:\n",
    "$$X = \\frac{T_{e,wb,i}}{T_{e,wb,i,rated}}; Y = \\frac{T_{c,i}}{T_{c,i,rated}}$$\n",
    "\n",
    "$T_{e,wb,i} = $ Wetbulb temperature of air entering evaporator (indoor temperature for AC mode)\\\n",
    "$T_{c,i} = $ Drybulb temperature of air entering condenser (outdoor temperature for AC mode)"
   ]
  },
  {
   "cell_type": "code",
   "execution_count": 40,
   "metadata": {},
   "outputs": [
    {
     "name": "stdout",
     "output_type": "stream",
     "text": [
      " IDB  ODB  IWB  Q_tot  Q_sen   W     SHR  \n",
      " 80   95   67   46.1  37.76  4.01 0.819089\n"
     ]
    }
   ],
   "source": [
    "IDB_rated = IDB_wet[7]\n",
    "ODB_rated = ODB_wet[7]\n",
    "IWB_rated = IWB_wet[7]\n",
    "Q_tot_rated = Q_tot_wet[7]\n",
    "Q_sen_rated = Q_sen_wet[7]\n",
    "W_rated = W_wet[7]\n",
    "SHR_rated = SHR_wet[7]\n",
    "\n",
    "df = pd.DataFrame({\n",
    "    'IDB': [IDB_rated],\n",
    "    'ODB': [ODB_rated],\n",
    "    'IWB': [IWB_rated],\n",
    "    'Q_tot': [Q_tot_rated],\n",
    "    'Q_sen': [Q_sen_rated],\n",
    "    'W': [W_rated],\n",
    "    'SHR': [SHR_rated]\n",
    "})\n",
    "\n",
    "# Print the table\n",
    "print(df.to_string(index=False))"
   ]
  },
  {
   "cell_type": "code",
   "execution_count": 62,
   "metadata": {},
   "outputs": [
    {
     "name": "stdout",
     "output_type": "stream",
     "text": [
      " IDB  ODB  IWB  Q_tot  Q_sen   W     SHR       X        Y     W/W_rated  Q/Q_rated\n",
      " 80   75   72  55.79  31.25  3.38 0.560136 1.074627 0.789474  0.842893   1.210195 \n",
      " 80   75   67  50.98  39.68  3.35 0.778344 1.000000 0.789474  0.835411   1.105857 \n",
      " 80   75   63  47.47  38.04  3.32 0.801348 0.940299 0.789474  0.827930   1.029718 \n",
      " 80   85   72  53.16  30.32  3.69 0.570354 1.074627 0.894737  0.920200   1.153145 \n",
      " 80   85   67  48.62  38.75  3.65 0.796997 1.000000 0.894737  0.910224   1.054664 \n",
      " 80   85   63  45.30  37.12  3.63 0.819426 0.940299 0.894737  0.905237   0.982646 \n",
      " 80   95   72  50.36  29.34  4.04 0.582605 1.074627 1.000000  1.007481   1.092408 \n",
      " 80   95   67  46.10  37.76  4.01 0.819089 1.000000 1.000000  1.000000   1.000000 \n",
      " 80   95   63  42.98  36.13  3.98 0.840624 0.940299 1.000000  0.992519   0.932321 \n",
      " 80  105   72  47.31  28.27  4.45 0.597548 1.074627 1.105263  1.109726   1.026247 \n",
      " 80  105   67  43.37  36.69  4.42 0.845976 1.000000 1.105263  1.102244   0.940781 \n",
      " 80  105   63  40.45  35.06  4.39 0.866749 0.940299 1.105263  1.094763   0.877440 \n",
      " 80  115   72  43.97  27.12  4.92 0.616784 1.074627 1.210526  1.226933   0.953796 \n",
      " 80  115   67  40.37  35.50  4.89 0.879366 1.000000 1.210526  1.219451   0.875705 \n",
      " 80  115   63  37.69  33.87  4.86 0.898647 0.940299 1.210526  1.211970   0.817570 \n",
      " 80  125   72  40.37  25.89  5.46 0.641318 1.074627 1.315789  1.361596   0.875705 \n",
      " 80  125   67  37.14  34.18  5.42 0.920302 1.000000 1.315789  1.351621   0.805640 \n",
      " 80  125   63  34.70  32.54  5.39 0.937752 0.940299 1.315789  1.344140   0.752711 \n"
     ]
    }
   ],
   "source": [
    "X = IWB_wet/IWB_rated\n",
    "Y = ODB_wet/ODB_rated\n",
    "W_ratio = W_wet/W_rated\n",
    "Q_ratio = Q_tot_wet/Q_tot_rated\n",
    "df = pd.DataFrame({\n",
    "    'IDB': IDB_wet,\n",
    "    'ODB': ODB_wet,\n",
    "    'IWB': IWB_wet,\n",
    "    'Q_tot': Q_tot_wet,\n",
    "    'Q_sen': Q_sen_wet,\n",
    "    'W': W_wet,\n",
    "    'SHR': SHR_wet,\n",
    "    'X': X,\n",
    "    'Y': Y,\n",
    "    'W/W_rated': W_ratio,\n",
    "    'Q/Q_rated': Q_ratio\n",
    "})\n",
    "# Print the table\n",
    "print(df.to_string(index=False))"
   ]
  },
  {
   "cell_type": "code",
   "execution_count": 80,
   "metadata": {},
   "outputs": [
    {
     "name": "stdout",
     "output_type": "stream",
     "text": [
      "a1 = 0.589344\n",
      "a2 = 0.192692\n",
      "a3 = -0.051826\n",
      "a4 = -0.398893\n",
      "a5 = 0.643035\n",
      "a6 = 0.024906\n"
     ]
    }
   ],
   "source": [
    "# Build feature matrix\n",
    "features = np.column_stack((\n",
    "    np.ones_like(X),      \n",
    "    X,                   \n",
    "    X**2,             \n",
    "    Y,                \n",
    "    Y**2,          \n",
    "    X * Y             \n",
    "))\n",
    "\n",
    "# Fit linear regression (intercept already included)\n",
    "model = LinearRegression(fit_intercept=False)\n",
    "model.fit(features, W_ratio)\n",
    "aa = coeffs\n",
    "# Output coefficients\n",
    "coeffs = model.coef_\n",
    "for i, a in enumerate(coeffs, start=1):\n",
    "    print(f\"a{i} = {a:.6f}\")"
   ]
  },
  {
   "cell_type": "code",
   "execution_count": 81,
   "metadata": {},
   "outputs": [
    {
     "name": "stdout",
     "output_type": "stream",
     "text": [
      "b1 = 0.021922\n",
      "b2 = 0.621706\n",
      "b3 = 0.682529\n",
      "b4 = 0.711130\n",
      "b5 = -0.223038\n",
      "b6 = -0.813769\n"
     ]
    }
   ],
   "source": [
    "# Fit linear regression (intercept already included)\n",
    "model = LinearRegression(fit_intercept=False)\n",
    "model.fit(features, Q_ratio)\n",
    "bb = coeffs\n",
    "# Output coefficients\n",
    "coeffs = model.coef_\n",
    "for i, b in enumerate(coeffs, start=1):\n",
    "    print(f\"b{i} = {b:.6f}\")"
   ]
  },
  {
   "cell_type": "code",
   "execution_count": null,
   "metadata": {},
   "outputs": [],
   "source": [
    "def Prediction(W_rated, Q_rated, a, b, IWB,IWB_rated, ODB,ODB_rated):\n",
    "    X = IWB/IWB_rated\n",
    "    Y = ODB/ODB_rated\n",
    "    W_pred = (a[0] + a[1] * X + a[2]*X**2 + a[3]*Y + a[4]*Y**2 + a[5]*X*Y) * W_rated\n",
    "    Q_pred = (b[0] + b[1] * X + b[2]*X**2 + b[3]*Y + b[4]*Y**2 + b[5]*X*Y) * Q_rated\n",
    "\n",
    "    return W_pred,Q_pred"
   ]
  },
  {
   "cell_type": "code",
   "execution_count": 104,
   "metadata": {},
   "outputs": [],
   "source": [
    "n_len = 18\n",
    "W_pred_wet = np.zeros(n_len) \n",
    "Q_tot_pred_wet = np.zeros(n_len) \n",
    "for i in range (n_len):\n",
    "    W_pred_wet[i],Q_tot_pred_wet[i] = Prediction(W_rated,Q_tot_rated,aa,bb,IWB_wet[i],IWB_rated,ODB_wet[i],ODB_rated)"
   ]
  },
  {
   "cell_type": "code",
   "execution_count": 105,
   "metadata": {},
   "outputs": [
    {
     "data": {
      "image/png": "[encoded data removed]",
      "text/plain": [
       "<Figure size 640x480 with 1 Axes>"
      ]
     },
     "metadata": {},
     "output_type": "display_data"
    }
   ],
   "source": [
    "plt.scatter(W_wet, W_pred_wet, label='Predicted vs Actual')\n",
    "plt.plot([min(W_wet), max(W_wet)],\n",
    "         [min(W_wet), max(W_wet)],\n",
    "         color='red', linestyle='--', label='Ideal Fit (y=x)')\n",
    "\n",
    "plt.xlabel('Actual $W$')\n",
    "plt.ylabel('Predicted W')\n",
    "plt.title('Predicted vs Actual Q̇tot')\n",
    "plt.legend()\n",
    "plt.grid(True)\n",
    "plt.tight_layout()\n",
    "plt.show()"
   ]
  },
  {
   "cell_type": "code",
   "execution_count": 92,
   "metadata": {},
   "outputs": [
    {
     "data": {
      "image/png": "[encoded data removed]",
      "text/plain": [
       "<Figure size 640x480 with 1 Axes>"
      ]
     },
     "metadata": {},
     "output_type": "display_data"
    }
   ],
   "source": [
    "plt.scatter(Q_tot_wet, Q_tot_pred_wet, label='Predicted vs Actual')\n",
    "plt.plot([min(Q_tot_wet), max(Q_tot_wet)],\n",
    "         [min(Q_tot_wet), max(Q_tot_wet)],\n",
    "         color='red', linestyle='--', label='Ideal Fit (y=x)')\n",
    "\n",
    "plt.xlabel('Actual $\\dot{Q}_{tot}$')\n",
    "plt.ylabel('Predicted Q̇tot')\n",
    "plt.title('Predicted vs Actual Q̇tot')\n",
    "plt.legend()\n",
    "plt.grid(True)\n",
    "plt.tight_layout()\n",
    "plt.show()"
   ]
  }
 ],
 "metadata": {
  "kernelspec": {
   "display_name": "ce414-env",
   "language": "python",
   "name": "python3"
  },
  "language_info": {
   "codemirror_mode": {
    "name": "ipython",
    "version": 3
   },
   "file_extension": ".py",
   "mimetype": "text/x-python",
   "name": "python",
   "nbconvert_exporter": "python",
   "pygments_lexer": "ipython3",
   "version": "3.10.16"
  }
 },
 "nbformat": 4,
 "nbformat_minor": 2
}
