{
 "cells": [
  {
   "cell_type": "code",
   "execution_count": null,
   "metadata": {},
   "outputs": [],
   "source": [
    "import numpy as np\n",
    "import math\n",
    "import pandas as pd\n",
    "from IPython.display import Image, display\n",
    "from CoolProp.HumidAirProp import HAProps\n",
    "import import_ipynb\n",
    "import matplotlib.pyplot as plt"
   ]
  },
  {
   "cell_type": "markdown",
   "metadata": {},
   "source": [
    "### Example 1\n",
    "Select a two-row coil made of finned tubes in configuration C to heat an air flow of 10,000\n",
    "$cfm$ from an entering temperature of 55 F to a leaving temperature of $75°F$. The hot water is delivered from a boiler at a\n",
    "temperature of $160°F$ and drops $15°F$ through the coil. Determine the heating capacity of the coil, the water flow rate, air velocity, and coil dimensions."
   ]
  }
 ],
 "metadata": {
  "kernelspec": {
   "display_name": "ce414-env",
   "language": "python",
   "name": "python3"
  },
  "language_info": {
   "name": "python",
   "version": "3.10.16"
  }
 },
 "nbformat": 4,
 "nbformat_minor": 2
}
