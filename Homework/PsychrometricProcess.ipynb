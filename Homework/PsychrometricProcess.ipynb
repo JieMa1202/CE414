{
 "cells": [
  {
   "cell_type": "markdown",
   "id": "9e5de03f-5d95-45e8-9c5f-02220bd432a0",
   "metadata": {},
   "source": [
    "# Psychrometric Process"
   ]
  },
  {
   "cell_type": "code",
   "execution_count": 45,
   "id": "8d0b1189-409e-495c-a2fe-d0d7b6e726e3",
   "metadata": {},
   "outputs": [],
   "source": [
    "import math\n",
    "import nbimporter\n",
    "import PsychrometricProperty as psy"
   ]
  },
  {
   "cell_type": "markdown",
   "id": "1984570d",
   "metadata": {},
   "source": [
    "### Example 5. Heating and Humidification \n",
    "Moist air at 70°F dry-bulb and 45°F wet-bulb temperature is to be processed to a final dew-point temperature of 55°F by adiabatic injection of saturated steam at 230°F. The rate of dry airflow is 200 lbda/min.  Find the final dry-bulb temperature of the moist air and the rate of steam flow required."
   ]
  },
  {
   "cell_type": "markdown",
   "id": "7dffadb2",
   "metadata": {},
   "source": [
    "Solutions:\\\n",
    "Calculte the humidity ration at state 1 and 2, and Calculate the humidity ratio at state 1"
   ]
  },
  {
   "cell_type": "code",
   "execution_count": 46,
   "id": "4ecdac9f",
   "metadata": {},
   "outputs": [],
   "source": [
    "P_atm = 14.7 # stansard atmosphere pressure\n",
    "T1_db = 70\n",
    "T1_wb = 45\n",
    "T2_dp = 55\n",
    "h_s = 1156.95\n",
    "m_dot_a = 200"
   ]
  },
  {
   "cell_type": "code",
   "execution_count": 47,
   "id": "6cfeac6f-8aca-4498-acb6-029e05990ca3",
   "metadata": {},
   "outputs": [
    {
     "name": "stdout",
     "output_type": "stream",
     "text": [
      "W1 =  0.0006809894715723359 lbm_w/lbm_a\n",
      "W2 =  0.009192311154648648 lbm_w/lbm_a\n",
      "h1 =  17.54369498211472 btu/lb\n"
     ]
    }
   ],
   "source": [
    "W1 = psy.W_ptb(P_atm,T1_db,T1_wb) #lbw/lba\n",
    "h1 = psy.h_ptb(P_atm,T1_db,T1_wb) # btu/lb\n",
    "W2 = psy.W_ptr(P_atm,T2_dp,100) # btu/lb\n",
    "print('W1 = ',W1,'lbm_w/lbm_a')\n",
    "print('W2 = ',W2,'lbm_w/lbm_a')\n",
    "print('h1 = ',h1,'btu/lb')"
   ]
  },
  {
   "cell_type": "markdown",
   "id": "52698b9e",
   "metadata": {},
   "source": [
    "Based on the conservation of mass of mositure:\n",
    "$$\\dot{m}_a w_1 + \\dot{m}_s = \\dot{m}_a w_2$$\n",
    "$$\\dot{m}_s = \\dot{m}_a (w_2-w1)$$\n",
    "Based on the conservation of energy :\n",
    "$$\\dot{m}_a h1 + \\dot{m}_s h_s = \\dot{m}_a h_2$$\n",
    "$$h_s = \\frac{h_2-h_1}{w_2-w_1}$$\n",
    "$$h_2 = h_s (w_2 - w_1) + h_1$$"
   ]
  },
  {
   "cell_type": "code",
   "execution_count": 48,
   "id": "e9ea6c79",
   "metadata": {},
   "outputs": [
    {
     "name": "stdout",
     "output_type": "stream",
     "text": [
      "The moist air and the rate of steam flow required 1.7022643366152623 lb/min\n"
     ]
    }
   ],
   "source": [
    "m_dot_s = m_dot_a*(W2-W1)\n",
    "print('The moist air and the rate of steam flow required',m_dot_s,'lb/min')\n",
    "\n"
   ]
  },
  {
   "cell_type": "markdown",
   "id": "54cb9177",
   "metadata": {},
   "source": [
    "Since $h = 0.24 t + W (1061+0.444t)$, $[Btu/lb_a]$"
   ]
  },
  {
   "cell_type": "code",
   "execution_count": 51,
   "id": "b5a981bb",
   "metadata": {},
   "outputs": [
    {
     "name": "stdout",
     "output_type": "stream",
     "text": [
      "h2 =  27.39086860334986 Btu/lb\n",
      "The final dry-bulb temperature of the moist air 72.26207105049716 F\n"
     ]
    }
   ],
   "source": [
    "h2 = h_s*(W2-W1)+h1\n",
    "T2 = (h2-1061*W2)/(0.24+0.444*W2)\n",
    "\n",
    "print('h2 = ',h2,'Btu/lb')\n",
    "print('The final dry-bulb temperature of the moist air',T2,'F')"
   ]
  }
 ],
 "metadata": {
  "kernelspec": {
   "display_name": "ce414-env",
   "language": "python",
   "name": "python3"
  },
  "language_info": {
   "codemirror_mode": {
    "name": "ipython",
    "version": 3
   },
   "file_extension": ".py",
   "mimetype": "text/x-python",
   "name": "python",
   "nbconvert_exporter": "python",
   "pygments_lexer": "ipython3",
   "version": "3.10.16"
  }
 },
 "nbformat": 4,
 "nbformat_minor": 5
}
