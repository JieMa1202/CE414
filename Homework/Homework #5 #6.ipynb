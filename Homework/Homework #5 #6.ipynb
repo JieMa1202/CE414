{
 "cells": [
  {
   "cell_type": "code",
   "execution_count": 12,
   "metadata": {},
   "outputs": [],
   "source": [
    "import math\n",
    "import nbimporter\n",
    "from CoolProp.CoolProp import PropsSI"
   ]
  },
  {
   "cell_type": "code",
   "execution_count": 13,
   "metadata": {},
   "outputs": [],
   "source": [
    "def F2K(F):\n",
    "    return (F - 32) * 5/9 + 273.15"
   ]
  },
  {
   "cell_type": "markdown",
   "metadata": {},
   "source": [
    "### Problem 1: Duct heat loss\n",
    "A duct that is 2 ft by 5 ft in cross-section and 80 ft long carries conditioned air through the space above the hung ceiling in an office building. The air enters the duct from the air handler at 55 F and 2 in. water pressure with a flow rate of 8,000 cfm. The temperature in the space is 85 F. Determine\\\n",
    "a. The level of insulation needed on the sides of the duct to have a temperature rise of 1 F\\\n",
    "b. The drop in sensible cooling capacity due to the heat transfer to the air flow.\\\n",
    "c. The leakage flow rate from the duct.\\\n",
    "d. The total drop in capacity due to leakage and heat loss in energy and relative to the total capacity.\\\n",
    "Assume you are using insulation with a thermal\n",
    "conductivity of kins = 0.025 Btu/hr-ft-F. Also assume a duct leakage class of 6."
   ]
  },
  {
   "cell_type": "code",
   "execution_count": 36,
   "metadata": {},
   "outputs": [],
   "source": [
    "T_i = 55 #[F]\n",
    "T_o = 56\n",
    "T_a = 85\n",
    "V_dot = 8000\n",
    "L = 80\n",
    "P_i = 2\n",
    "h_o = 1.47\n",
    "k_ins = 0.025\n",
    "Area = 2 * (2 + 5) * L"
   ]
  },
  {
   "cell_type": "code",
   "execution_count": 29,
   "metadata": {},
   "outputs": [
    {
     "name": "stdout",
     "output_type": "stream",
     "text": [
      "The total capacity is: 266945.59015372174 Btu/hr\n"
     ]
    }
   ],
   "source": [
    "P_atm = 14.7 #[psi]\n",
    "rho_air = PropsSI('D', 'T', F2K(T_i), 'P', 101325, 'Air') * 0.062428 # convert from kg/m3 to lb/ft3\n",
    "c_p = PropsSI('C', 'T', F2K(T_i), 'P', 101325, 'Air') * 0.0002390057 # [btu/lbm-F]\n",
    "m_dot = V_dot * rho_air * 60 # [lbm/hr]\n",
    "Capacity = m_dot * c_p * (T_a - T_i)\n",
    "print('The total capacity is:',Capacity,'Btu/hr')\n"
   ]
  },
  {
   "cell_type": "code",
   "execution_count": 34,
   "metadata": {},
   "outputs": [
    {
     "name": "stdout",
     "output_type": "stream",
     "text": [
      "0.0033149648482099533\n",
      "0.9097465563454832\n"
     ]
    }
   ],
   "source": [
    "R_total = -(1/(math.log((T_a-T_o)/(T_a-T_i))*m_dot*c_p))\n",
    "print(R_total)\n",
    "R_o = 1/(h_o * Area)\n",
    "R_ins = R_total - R_o\n",
    "thinkness = R_ins * k_ins * Area * 12\n",
    "print(thinkness)"
   ]
  },
  {
   "cell_type": "code",
   "execution_count": null,
   "metadata": {},
   "outputs": [
    {
     "name": "stdout",
     "output_type": "stream",
     "text": [
      "8898.186338457392\n"
     ]
    }
   ],
   "source": [
    "Q_cap_drop = m_dot * c_p *(T_o - T_i)\n",
    "print (Q_cap_drop)\n"
   ]
  },
  {
   "cell_type": "code",
   "execution_count": 40,
   "metadata": {},
   "outputs": [
    {
     "name": "stdout",
     "output_type": "stream",
     "text": [
      "3518.6132526429956\n"
     ]
    }
   ],
   "source": [
    "C_L = 6/100\n",
    "V_dot_leak = C_L * (Area) * P_i**0.65\n",
    "Q_leak = V_dot_leak * 60 * rho_air * c_p *(T_a - T_i)\n",
    "print (Q_leak)"
   ]
  },
  {
   "cell_type": "code",
   "execution_count": 41,
   "metadata": {},
   "outputs": [
    {
     "name": "stdout",
     "output_type": "stream",
     "text": [
      "4.651434617799874\n"
     ]
    }
   ],
   "source": [
    "precent_cap = (Q_cap_drop + Q_leak)/Capacity * 100\n",
    "print(precent_cap)"
   ]
  },
  {
   "cell_type": "markdown",
   "metadata": {},
   "source": []
  }
 ],
 "metadata": {
  "kernelspec": {
   "display_name": "ce414-env",
   "language": "python",
   "name": "python3"
  },
  "language_info": {
   "codemirror_mode": {
    "name": "ipython",
    "version": 3
   },
   "file_extension": ".py",
   "mimetype": "text/x-python",
   "name": "python",
   "nbconvert_exporter": "python",
   "pygments_lexer": "ipython3",
   "version": "3.10.16"
  }
 },
 "nbformat": 4,
 "nbformat_minor": 2
}
