{
 "cells": [
  {
   "cell_type": "code",
   "execution_count": 12,
   "metadata": {},
   "outputs": [],
   "source": [
    "import math\n",
    "import nbimporter\n",
    "from CoolProp.CoolProp import PropsSI"
   ]
  },
  {
   "cell_type": "code",
   "execution_count": 13,
   "metadata": {},
   "outputs": [],
   "source": [
    "def F2K(F):\n",
    "    return (F - 32) * 5/9 + 273.15"
   ]
  },
  {
   "cell_type": "markdown",
   "metadata": {},
   "source": [
    "### Problem 1: Duct heat loss\n",
    "A duct that is 2 ft by 5 ft in cross-section and 80 ft long carries conditioned air through the space above the hung ceiling in an office building. The air enters the duct from the air handler at 55 F and 2 in. water pressure with a flow rate of 8,000 cfm. The temperature in the space is 85 F. Determine\\\n",
    "a. The level of insulation needed on the sides of the duct to have a temperature rise of 1 F\\\n",
    "b. The drop in sensible cooling capacity due to the heat transfer to the air flow.\\\n",
    "c. The leakage flow rate from the duct.\\\n",
    "d. The total drop in capacity due to leakage and heat loss in energy and relative to the total capacity.\\\n",
    "Assume you are using insulation with a thermal\n",
    "conductivity of kins = 0.025 Btu/hr-ft-F. Also assume a duct leakage class of 6."
   ]
  },
  {
   "cell_type": "code",
   "execution_count": 14,
   "metadata": {},
   "outputs": [],
   "source": [
    "T_i = 55 #[F]\n",
    "T_o = 56\n",
    "T_a = 85\n",
    "V_dot = 8000\n",
    "L = 80\n",
    "Area = 2 * (2 + 5) * L"
   ]
  },
  {
   "cell_type": "code",
   "execution_count": 15,
   "metadata": {},
   "outputs": [
    {
     "name": "stdout",
     "output_type": "stream",
     "text": [
      "124.02814921997911\n"
     ]
    }
   ],
   "source": [
    "P_atm = 14.7 #[psi]\n",
    "rho_air = PropsSI('D', 'T', F2K(T_i), 'P', 100e5, 'Air')\n",
    "c_p = PropsSI('C', 'T', F2K(T_i), 'P', 100e5, 'Air')\n",
    "print(rho_air)"
   ]
  }
 ],
 "metadata": {
  "kernelspec": {
   "display_name": "ce414-env",
   "language": "python",
   "name": "python3"
  },
  "language_info": {
   "codemirror_mode": {
    "name": "ipython",
    "version": 3
   },
   "file_extension": ".py",
   "mimetype": "text/x-python",
   "name": "python",
   "nbconvert_exporter": "python",
   "pygments_lexer": "ipython3",
   "version": "3.10.16"
  }
 },
 "nbformat": 4,
 "nbformat_minor": 2
}
