{
 "cells": [
  {
   "cell_type": "code",
   "execution_count": 53,
   "metadata": {},
   "outputs": [],
   "source": [
    "import math\n",
    "import nbimporter\n",
    "from CoolProp.CoolProp import PropsSI"
   ]
  },
  {
   "cell_type": "code",
   "execution_count": 54,
   "metadata": {},
   "outputs": [],
   "source": [
    "def F2K(F):\n",
    "    return (F - 32) * 5/9 + 273.15"
   ]
  },
  {
   "cell_type": "markdown",
   "metadata": {},
   "source": [
    "### Problem 1: Duct heat loss\n",
    "A duct that is 2 ft by 5 ft in cross-section and 80 ft long carries conditioned air through the space above the hung ceiling in an office building. The air enters the duct from the air handler at 55 F and 2 in. water pressure with a flow rate of 8,000 cfm. The temperature in the space is 85 F. Determine\\\n",
    "a. The level of insulation needed on the sides of the duct to have a temperature rise of 1 F\\\n",
    "b. The drop in sensible cooling capacity due to the heat transfer to the air flow.\\\n",
    "c. The leakage flow rate from the duct.\\\n",
    "d. The total drop in capacity due to leakage and heat loss in energy and relative to the total capacity.\\\n",
    "Assume you are using insulation with a thermal\n",
    "conductivity of kins = 0.025 Btu/hr-ft-F. Also assume a duct leakage class of 6."
   ]
  },
  {
   "cell_type": "markdown",
   "metadata": {},
   "source": [
    "Information we know:"
   ]
  },
  {
   "cell_type": "code",
   "execution_count": null,
   "metadata": {},
   "outputs": [],
   "source": [
    "T_i = 55 # Duct inlet temperature,[F]\n",
    "T_o = 56 # Duct outlet temperature, [F]\n",
    "T_a = 85 # ambient temperature, [F]\n",
    "V_dot = 8000 # air flow rate, [cfm]\n",
    "L = 80 # duct length, [ft]\n",
    "P_i = 2 # total pressure ar inlet, [inH2O]\n",
    "h_o = 0.62 # outside heat transfer coefficient, [F-ft2-hr/Btu]\n",
    "k_ins = 0.025 # thermal conductivity, [Btu/hr-ft-F]\n",
    "Area = 2 * (2 + 5) * L # area of the duct [ft2]"
   ]
  },
  {
   "cell_type": "markdown",
   "metadata": {},
   "source": [
    "The mass flow rate: \n",
    "$$\\dot{m}_{air} = \\dot{V}_{air} \\rho$$\n",
    "The total capacity delivered to the space:\n",
    "$$\\dot{Q}_{total} = \\dot{m}_{air}c_p(T_a - T_i)$$"
   ]
  },
  {
   "cell_type": "code",
   "execution_count": 64,
   "metadata": {},
   "outputs": [
    {
     "name": "stdout",
     "output_type": "stream",
     "text": [
      "mass flow rate: 37010.11 lbm/hr\n",
      "The total capacity is: 37010.11 Btu/hr\n"
     ]
    }
   ],
   "source": [
    "P_atm = 14.7 #[psi]\n",
    "rho_air = PropsSI('D', 'T', F2K(T_i), 'P', 101325, 'Air') * 0.062428 # convert from kg/m3 to lb/ft3\n",
    "c_p = PropsSI('C', 'T', F2K(T_i), 'P', 101325, 'Air') * 0.0002390057 # [btu/lbm-F]\n",
    "m_dot = V_dot * rho_air * 60 # [lbm/hr]\n",
    "print('mass flow rate:',f\"{m_dot:.2f}\",'lbm/hr')\n",
    "Capacity = m_dot * c_p * (T_a - T_i)\n",
    "print('The total capacity is:',f\"{m_dot:.2f}\",'Btu/hr')\n"
   ]
  },
  {
   "cell_type": "markdown",
   "metadata": {},
   "source": [
    "The outlet temperature can be found:\n",
    "$$T_o = T_i - (T_i-T_a)[1-e^{-\\frac{UA}{\\dot{m}_{air}c_p}}]$$\n",
    "And it also can be writed as:\n",
    "$$T_o = T_i - (T_i-T_a)[1-e^{-\\frac{1}{R_{total}\\dot{m}_{air}c_p}}]$$\n",
    "where $R_{total}$ is the total resistance, which can be obtained:\n",
    "$$R_{total} = -\\frac{1}{\\ln{\\frac{T_a-T_o}{T_a-T_i}} * \\dot{m}_{air}c_p}$$\n",
    "The total resistance is the sum of the insulation and external resistance:\n",
    "$$R_{total} = R_{ins} + R_o$$\n",
    "where:\n",
    "$$R_o = \\frac{1}{h_o*Area}$$\n",
    "$$R_{ins} = \\delta * \\frac{1}{k_{ins}*Area}$$\n",
    "where $\\delta$ is the thinkness of insulation\n"
   ]
  },
  {
   "cell_type": "markdown",
   "metadata": {},
   "source": []
  },
  {
   "cell_type": "code",
   "execution_count": 69,
   "metadata": {},
   "outputs": [
    {
     "name": "stdout",
     "output_type": "stream",
     "text": [
      "The thickness of insulation is 0.63 in\n"
     ]
    }
   ],
   "source": [
    "R_total = -(1/(math.log((T_a-T_o)/(T_a-T_i))*m_dot*c_p))\n",
    "R_o = 1/(h_o * Area)\n",
    "R_ins = R_total - R_o\n",
    "thickness = R_ins * k_ins * Area * 12\n",
    "print('The thickness of insulation is',f\"{thickness:.2f}\",'in')"
   ]
  },
  {
   "cell_type": "markdown",
   "metadata": {},
   "source": [
    "b. The drop in sensible cooling capacity due to the heat transfer to the air flow is:\n",
    "$$\\dot{Q}_{heatloss} = \\dot{m}_{air}c_p(T_o - T_i)$$"
   ]
  },
  {
   "cell_type": "code",
   "execution_count": 70,
   "metadata": {},
   "outputs": [
    {
     "name": "stdout",
     "output_type": "stream",
     "text": [
      "The drop in sensible cooling capacity is 8898.19 Btu/hr\n"
     ]
    }
   ],
   "source": [
    "Q_cap_drop = m_dot * c_p *(T_o - T_i)\n",
    "print ('The drop in sensible cooling capacity is',f\"{Q_cap_drop:.2f}\",'Btu/hr')\n"
   ]
  },
  {
   "cell_type": "markdown",
   "metadata": {},
   "source": [
    "c. The leakage flow rate from the duct. Assume a duct leakage class of 6\n",
    "$$C_L = 6   [cfm/100-ft^2-inH_2O^{0.65}]$$\n",
    "Thus, the leakage air flow rate is:\n",
    "$$\\dot{V}_{leak} = C_L/100 * Area * P_i^{0.65}$$\n",
    "The drop in cooling capacity due to leakage:\n",
    "$$\\dot{Q}_{leak} = \\dot{m}_{air}c_p(T_a - T_i)$$\n"
   ]
  },
  {
   "cell_type": "code",
   "execution_count": 72,
   "metadata": {},
   "outputs": [
    {
     "name": "stdout",
     "output_type": "stream",
     "text": [
      "The leakage flow rate is 105.45 cfm\n",
      "The drop in cooling capacity due to leakage 3518.61 Btu/hr\n"
     ]
    }
   ],
   "source": [
    "C_L = 6\n",
    "V_dot_leak = C_L/100 * (Area) * P_i**0.65\n",
    "Q_leak = V_dot_leak * 60 * rho_air * c_p *(T_a - T_i)\n",
    "print ('The leakage flow rate is',f\"{V_dot_leak:.2f}\", 'cfm')\n",
    "print ('The drop in cooling capacity due to leakage',f\"{Q_leak:.2f}\", 'Btu/hr')"
   ]
  },
  {
   "cell_type": "code",
   "execution_count": 73,
   "metadata": {},
   "outputs": [
    {
     "name": "stdout",
     "output_type": "stream",
     "text": [
      "The total drop in capacity due to leakage and heat loss in energy and relative to the total capacity 4.65 %\n"
     ]
    }
   ],
   "source": [
    "precent_cap = (Q_cap_drop + Q_leak)/Capacity * 100\n",
    "print('The total drop in capacity due to leakage and heat loss in energy and relative to the total capacity',\n",
    "      f\"{precent_cap:.2f}\",'%')"
   ]
  },
  {
   "cell_type": "markdown",
   "metadata": {},
   "source": []
  },
  {
   "cell_type": "code",
   "execution_count": null,
   "metadata": {},
   "outputs": [],
   "source": []
  }
 ],
 "metadata": {
  "kernelspec": {
   "display_name": "ce414-env",
   "language": "python",
   "name": "python3"
  },
  "language_info": {
   "codemirror_mode": {
    "name": "ipython",
    "version": 3
   },
   "file_extension": ".py",
   "mimetype": "text/x-python",
   "name": "python",
   "nbconvert_exporter": "python",
   "pygments_lexer": "ipython3",
   "version": "3.10.16"
  }
 },
 "nbformat": 4,
 "nbformat_minor": 2
}
