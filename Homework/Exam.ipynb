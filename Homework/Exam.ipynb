{
 "cells": [
  {
   "cell_type": "code",
   "execution_count": 6,
   "metadata": {},
   "outputs": [
    {
     "ename": "ImportError",
     "evalue": "cannot import name 'RH_ptw' from 'PsychrometricProperty' (unknown location)",
     "output_type": "error",
     "traceback": [
      "\u001b[0;31m---------------------------------------------------------------------------\u001b[0m",
      "\u001b[0;31mImportError\u001b[0m                               Traceback (most recent call last)",
      "Cell \u001b[0;32mIn[6], line 6\u001b[0m\n\u001b[1;32m      4\u001b[0m \u001b[38;5;28;01mfrom\u001b[39;00m\u001b[38;5;250m \u001b[39m\u001b[38;5;21;01mCoolProp\u001b[39;00m\u001b[38;5;21;01m.\u001b[39;00m\u001b[38;5;21;01mHumidAirProp\u001b[39;00m\u001b[38;5;250m \u001b[39m\u001b[38;5;28;01mimport\u001b[39;00m HAProps\n\u001b[1;32m      5\u001b[0m \u001b[38;5;28;01mimport\u001b[39;00m\u001b[38;5;250m \u001b[39m\u001b[38;5;21;01mimport_ipynb\u001b[39;00m\n\u001b[0;32m----> 6\u001b[0m \u001b[38;5;28;01mfrom\u001b[39;00m\u001b[38;5;250m \u001b[39m\u001b[38;5;21;01mPsychrometricProperty\u001b[39;00m\u001b[38;5;250m \u001b[39m\u001b[38;5;28;01mimport\u001b[39;00m W_ptr, Tdp_ptr, h_ptr, v_ptr, W_ptb,RH_ptb,Tdp_ptb,h_ptb,v_ptb,Tdp_ptW,h_ptw,RH_ptw\n",
      "\u001b[0;31mImportError\u001b[0m: cannot import name 'RH_ptw' from 'PsychrometricProperty' (unknown location)"
     ]
    }
   ],
   "source": [
    "import numpy as np\n",
    "import math\n",
    "import pandas as pd\n",
    "from CoolProp.HumidAirProp import HAProps\n",
    "import import_ipynb\n",
    "from PsychrometricProperty import W_ptr, Tdp_ptr, h_ptr, v_ptr, W_ptb,RH_ptb,Tdp_ptb,h_ptb,v_ptb,Tdp_ptW,h_ptw,RH_ptw"
   ]
  },
  {
   "cell_type": "code",
   "execution_count": null,
   "metadata": {},
   "outputs": [
    {
     "name": "stdout",
     "output_type": "stream",
     "text": [
      "26.83400869150948\n",
      "60869.42666461641 lbm/hr\n",
      "13188.769442986355 CFM\n",
      "28.476869573886255\n"
     ]
    }
   ],
   "source": [
    "P_atm = 14.7\n",
    "T_db_4 = 50\n",
    "RH_4 = 100\n",
    "h_4 = h_ptr(P_atm,T_db_4,RH_4)\n",
    "v_4 = v_ptr(P_atm,T_db_4,RH_4)\n",
    "w_4 = W_ptr(P_atm,T_db_4,RH_4)\n",
    "\n",
    "T_db_5 = 77\n",
    "h_x = h_ptw(P_atm,T_db_5,w_4)\n",
    "print(h_x)\n",
    "\n",
    "\n",
    "Q_zone_sen = 500000 * 0.8\n",
    "Q_zone_lat = 500000 * 0.2\n",
    "m_tot = Q_zone_sen/(h_x - h_4)\n",
    "print (m_tot,'lbm/hr')\n",
    "V_tot = m_tot * v_4 / 60 #cfm\n",
    "print (V_tot,'CFM')\n",
    "V_cir = V_tot - 1600\n",
    "m_cir = V_cir / v_4\n",
    "\n",
    "h_5 = Q_zone_lat/m_tot + h_x\n",
    "\n",
    "print(h_5)\n",
    "\n",
    "\n",
    "RH_5 = 46.4"
   ]
  },
  {
   "cell_type": "code",
   "execution_count": null,
   "metadata": {},
   "outputs": [
    {
     "name": "stdout",
     "output_type": "stream",
     "text": [
      "47.27076690693172\n",
      "79.7\n"
     ]
    }
   ],
   "source": [
    "# mixing\n",
    "T_db_1 = 95 \n",
    "T_wb_1 = 78\n",
    "RH_1 = RH_ptb(P_atm,T_db_1,T_wb_1)\n",
    "w_1 = W_ptb(P_atm,T_db_1,T_wb_1)\n",
    "print(RH_1)\n",
    "T_db_5 = 77\n",
    "eta = 0.85\n",
    "T_db_2 = T_db_1 - eta * (T_db_1 - T_db_5)\n",
    "w_2 = w_1\n",
    "print(T_db_2)"
   ]
  },
  {
   "cell_type": "code",
   "execution_count": null,
   "metadata": {},
   "outputs": [],
   "source": [
    "h_3 = m_ven * h_2 "
   ]
  },
  {
   "cell_type": "markdown",
   "metadata": {},
   "source": [
    "### Problem 2: Ductwork System Design and Analysis\n",
    "A ductwork system is designed to distribute air throughout a building, with all duct sections having a roughness height of ε = 0.0003 ft. The following calculations and analyses are required:\\\n",
    "(a) determine the appropriate diameter for each straight duct section using the Equal Friction Method, ensuring that the maximum friction rate does not exceed 0.1 inH2O/100 ft of duct (2 points);\\\n",
    "(b) calculate the total pressure loss across the entire duct system (2 points);\\\n",
    "(c) identify the locations where the Butterfly Dampers should be installed at the ends of the ducts and determine the required damper settings (in degrees) for each installed damper to achieve balanced airflow distribution across the system (3 points);\\\n",
    "(d) calculate the minimum fan pressure required to overcome the system losses and determine the ideal power requirement for the fan (2 points)."
   ]
  },
  {
   "cell_type": "code",
   "execution_count": null,
   "metadata": {},
   "outputs": [],
   "source": [
    "# a) determine the duct size:\n",
    "D_1 = 28 # [in]\n",
    "D_2 = 14 # [in]\n",
    "D_3 = 26 # [in]\n",
    "D_4 = 18 # [in]\n",
    "D_5 = 22 # [in]\n",
    "\n",
    "L_1 = 60 #[ft]\n",
    "L_2 = 20 #[ft]\n",
    "L_3 = 45 #[ft]\n",
    "L_4 = 80 #[ft]\n",
    "L_5 = 40 #[ft]\n",
    "\n",
    "V_dot_1 = 6000 #[ft]\n",
    "V_dot_2 = 1000 #[ft]\n",
    "V_dot_3 = 5000 #[ft]\n",
    "V_dot_4 = 2000 #[ft]\n",
    "V_dot_5 = 3000 #[ft]\n",
    "# calculte the speed for each section\n",
    "A_1 = math.pi * (D_1/12)**2/4\n",
    "A_2 = math.pi * (D_2/12)**2/4 \n",
    "A_3 = math.pi * (D_3/12)**2/4 \n",
    "A_4 = math.pi * (D_4/12)**2/4 \n",
    "A_5 = math.pi * (D_5/12)**2/4\n",
    "# calculate the velocity\n",
    "v_1 =  V_dot_1/60/A_1 \n",
    "v_2 =  V_dot_2/60/A_2\n",
    "v_3 =  V_dot_3/60/A_3\n",
    "v_4 =  V_dot_4/60/A_4\n",
    "v_5 =  V_dot_5/60/A_5"
   ]
  },
  {
   "cell_type": "code",
   "execution_count": null,
   "metadata": {},
   "outputs": [
    {
     "data": {
      "text/html": [
       "<div>\n",
       "<style scoped>\n",
       "    .dataframe tbody tr th:only-of-type {\n",
       "        vertical-align: middle;\n",
       "    }\n",
       "\n",
       "    .dataframe tbody tr th {\n",
       "        vertical-align: top;\n",
       "    }\n",
       "\n",
       "    .dataframe thead th {\n",
       "        text-align: right;\n",
       "    }\n",
       "</style>\n",
       "<table border=\"1\" class=\"dataframe\">\n",
       "  <thead>\n",
       "    <tr style=\"text-align: right;\">\n",
       "      <th></th>\n",
       "      <th>Duct Segment</th>\n",
       "      <th>L [ft]</th>\n",
       "      <th>V [CFM]</th>\n",
       "      <th>D [in]</th>\n",
       "      <th>A [ft2]</th>\n",
       "    </tr>\n",
       "  </thead>\n",
       "  <tbody>\n",
       "    <tr>\n",
       "      <th>0</th>\n",
       "      <td>Sction 1</td>\n",
       "      <td>60</td>\n",
       "      <td>6000</td>\n",
       "      <td>28</td>\n",
       "      <td>4.276057</td>\n",
       "    </tr>\n",
       "    <tr>\n",
       "      <th>1</th>\n",
       "      <td>Sction 2</td>\n",
       "      <td>20</td>\n",
       "      <td>1000</td>\n",
       "      <td>14</td>\n",
       "      <td>1.069014</td>\n",
       "    </tr>\n",
       "    <tr>\n",
       "      <th>2</th>\n",
       "      <td>Sction 3</td>\n",
       "      <td>45</td>\n",
       "      <td>5000</td>\n",
       "      <td>26</td>\n",
       "      <td>3.687008</td>\n",
       "    </tr>\n",
       "    <tr>\n",
       "      <th>3</th>\n",
       "      <td>Sction 4</td>\n",
       "      <td>80</td>\n",
       "      <td>2000</td>\n",
       "      <td>18</td>\n",
       "      <td>1.767146</td>\n",
       "    </tr>\n",
       "    <tr>\n",
       "      <th>4</th>\n",
       "      <td>Sction 5</td>\n",
       "      <td>40</td>\n",
       "      <td>3000</td>\n",
       "      <td>22</td>\n",
       "      <td>2.639810</td>\n",
       "    </tr>\n",
       "  </tbody>\n",
       "</table>\n",
       "</div>"
      ],
      "text/plain": [
       "  Duct Segment  L [ft]  V [CFM]  D [in]   A [ft2]\n",
       "0     Sction 1      60     6000      28  4.276057\n",
       "1     Sction 2      20     1000      14  1.069014\n",
       "2     Sction 3      45     5000      26  3.687008\n",
       "3     Sction 4      80     2000      18  1.767146\n",
       "4     Sction 5      40     3000      22  2.639810"
      ]
     },
     "execution_count": 25,
     "metadata": {},
     "output_type": "execute_result"
    }
   ],
   "source": [
    "data = {\n",
    "    \"Duct Segment\": [\"Section 1\", \"Section 2\", \"Section 3\",\"Section 4\",\"Section 5\"],\n",
    "    \"L [ft]\": [L_1, L_2, L_3, L_4, L_5],\n",
    "    \"V [CFM]\": [V_dot_1, V_dot_2, V_dot_3, V_dot_4, V_dot_5],\n",
    "    \"D [in]\": [D_1, D_2, D_3, D_4, D_5],\n",
    "    \"A [ft2]\": [A_1, A_2, A_3, A_4, A_5]\n",
    "}\n",
    "\n",
    "# Create DataFrame\n",
    "df = pd.DataFrame(data)\n",
    "\n",
    "# Display table\n",
    "df"
   ]
  },
  {
   "cell_type": "code",
   "execution_count": null,
   "metadata": {},
   "outputs": [],
   "source": [
    "# 2.1) major pressure drop for each sction:\n",
    "f = 0.1\n",
    "rho_air = 0.075 #[lbm/ft3]\n",
    "DP_1 = f * (L_1 / (D_1 / 12)) * (rho_air * v_1**2 / 2) * 5.202e-3 # inH2O\n",
    "DP_2 = f * (L_2 / (D_2 / 12)) * (rho_air * v_2**2 / 2) * 5.202e-3 # inH2O\n",
    "DP_3 = f * (L_3 / (D_3 / 12)) * (rho_air * v_3**2 / 2) * 5.202e-3 # inH2O\n",
    "DP_4 = f * (L_4 / (D_4 / 12)) * (rho_air * v_4**2 / 2) * 5.202e-3 # inH2O\n",
    "DP_5 = f * (L_5 / (D_5 / 12)) * (rho_air * v_5**2 / 2) * 5.202e-3 # inH2O\n",
    "\n",
    "# 2.1) minor pressure drop for fittings:\n",
    "DP_tee_turn = "
   ]
  }
 ],
 "metadata": {
  "kernelspec": {
   "display_name": "ce414-env",
   "language": "python",
   "name": "python3"
  },
  "language_info": {
   "codemirror_mode": {
    "name": "ipython",
    "version": 3
   },
   "file_extension": ".py",
   "mimetype": "text/x-python",
   "name": "python",
   "nbconvert_exporter": "python",
   "pygments_lexer": "ipython3",
   "version": "3.10.16"
  }
 },
 "nbformat": 4,
 "nbformat_minor": 2
}
