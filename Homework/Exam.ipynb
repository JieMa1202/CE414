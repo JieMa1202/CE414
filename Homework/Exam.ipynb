{
 "cells": [
  {
   "cell_type": "code",
   "execution_count": 8,
   "metadata": {},
   "outputs": [],
   "source": [
    "import numpy as np\n",
    "import math\n",
    "from CoolProp.HumidAirProp import HAProps\n",
    "import import_ipynb\n",
    "from PsychrometricProperty import W_ptr, Tdp_ptr, h_ptr, v_ptr, W_ptb,RH_ptb,Tdp_ptb,h_ptb,v_ptb,Tdp_ptW"
   ]
  },
  {
   "cell_type": "code",
   "execution_count": 1,
   "metadata": {},
   "outputs": [],
   "source": [
    "def F2K(F):\n",
    "    return (F - 32) * 5/9 + 273.15"
   ]
  },
  {
   "cell_type": "code",
   "execution_count": null,
   "metadata": {},
   "outputs": [
    {
     "name": "stdout",
     "output_type": "stream",
     "text": [
      "20.26256516200239\n",
      "60629.62497124172 lbm/hr\n",
      "13136.810858533398 CFM\n"
     ]
    }
   ],
   "source": [
    "P_atm = 14.7\n",
    "T_4 = 50\n",
    "RH_4 = 100\n",
    "h_4 = h_ptr(P_atm,T_4,RH_4)\n",
    "v_4 = v_ptr(P_atm,T_4,RH_4)\n",
    "print (h_4)\n",
    "\n",
    "h_x = 26.86\n",
    "\n",
    "Q_zone_sen = 500000 * 0.8\n",
    "m_tot = Q_zone_sen/(h_x - h_4)\n",
    "print (m_tot,'lbm/hr')\n",
    "V_tot = m_tot * v_4 / 60 #cfm\n",
    "print (V_tot,'CFM')\n",
    "V_cir = V_tot - 1600\n",
    "\n"
   ]
  }
 ],
 "metadata": {
  "kernelspec": {
   "display_name": "ce414-env",
   "language": "python",
   "name": "python3"
  },
  "language_info": {
   "codemirror_mode": {
    "name": "ipython",
    "version": 3
   },
   "file_extension": ".py",
   "mimetype": "text/x-python",
   "name": "python",
   "nbconvert_exporter": "python",
   "pygments_lexer": "ipython3",
   "version": "3.10.16"
  }
 },
 "nbformat": 4,
 "nbformat_minor": 2
}
