{
 "cells": [
  {
   "cell_type": "code",
   "execution_count": 13,
   "metadata": {},
   "outputs": [],
   "source": [
    "import math\n",
    "import nbimporter\n",
    "import CoolProp.CoolProp as CP"
   ]
  },
  {
   "cell_type": "markdown",
   "metadata": {},
   "source": [
    "### Problem 11.5. Fume hood pressure drop\n",
    " Two identical exhaust hoods are installed in a manufacturing plant to remove the gases from a welding process. Each hood is required to remove 500 cfm from the work area. A filter is placed in the duct to prevent solid particles from damaging the fan. A pressure drop measurement across the filter is used to determine when to replace the filter. The loss coefficient for a new filter is 5.5 and the loss coefficient for each fume hood is 3.3, and the fan is sized so that the system flow for a new filter is 1200 cfm.\\\n",
    "a. Determine the pressure loss (inches water) between the inlet to the fume hoods and the inlet to the fan for the design conditions.\\\n",
    "b. Determine the value of the pressure drop that would necessitate a change of filter.\\\n",
    "c. One of the workstations is no longer needed so a damper located in the hood is closed. Determine the system pressure loss curve for this situation. Show how the operating point changes using a representative fan characteristic curve based on both workstations in operation."
   ]
  },
  {
   "cell_type": "markdown",
   "metadata": {},
   "source": [
    "1) Information given:"
   ]
  },
  {
   "cell_type": "code",
   "execution_count": 14,
   "metadata": {},
   "outputs": [],
   "source": [
    "P_atm = 14.7 # atmosphere pressure\n",
    "T_z = 75 \n",
    "D_1 = 9/12 # convert diameter from in to feet\n",
    "V_dot_1 = 500 # cfm\n",
    "L_1 = 15 # ft\n",
    "D_2 = 12/12 # convert diameter from in to feet\n",
    "L_2 = 10 #ft\n",
    "K_hood = 3.3 #loss coefficient for each fume hood"
   ]
  },
  {
   "cell_type": "markdown",
   "metadata": {},
   "source": [
    "2. Calculate the air viscosity and density at standard air pressure and 75F drybulb temperature"
   ]
  },
  {
   "cell_type": "code",
   "execution_count": 15,
   "metadata": {},
   "outputs": [
    {
     "name": "stdout",
     "output_type": "stream",
     "text": [
      "viscosity = 0.0444930334982871 [lbm/hr-ft]\n",
      "density = 0.07422407519055603 [lbm/ft^3]\n"
     ]
    }
   ],
   "source": [
    "mu = CP.PropsSI(\"V\", \"P\", 101325, \"T\", 297, \"Air\")* 2419.0883 # viscosity, lbm/hr-ft\n",
    "rho = CP.PropsSI(\"D\", \"P\", 101325, \"T\", 297, \"Air\")*0.06243 # density of air. lbm/ft^3 \n",
    "print (\"viscosity =\", mu,'[lbm/hr-ft]')\n",
    "print (\"density =\", rho, '[lbm/ft^3]')"
   ]
  },
  {
   "cell_type": "code",
   "execution_count": 16,
   "metadata": {},
   "outputs": [],
   "source": [
    "Ac_1 = math.pi * (D_1)**2/4\n",
    "v_1 = Ac_1 * V_dot_1 * 60 # lbm/hr\n",
    "m_1 = V_dot_1"
   ]
  }
 ],
 "metadata": {
  "kernelspec": {
   "display_name": "ce414-env",
   "language": "python",
   "name": "python3"
  },
  "language_info": {
   "codemirror_mode": {
    "name": "ipython",
    "version": 3
   },
   "file_extension": ".py",
   "mimetype": "text/x-python",
   "name": "python",
   "nbconvert_exporter": "python",
   "pygments_lexer": "ipython3",
   "version": "3.10.16"
  }
 },
 "nbformat": 4,
 "nbformat_minor": 2
}
