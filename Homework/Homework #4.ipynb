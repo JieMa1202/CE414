{
 "cells": [
  {
   "cell_type": "code",
   "execution_count": 84,
   "metadata": {},
   "outputs": [],
   "source": [
    "import math\n",
    "import nbimporter\n",
    "import CoolProp.CoolProp as CP"
   ]
  },
  {
   "cell_type": "code",
   "execution_count": 85,
   "metadata": {},
   "outputs": [],
   "source": [
    "def f_Churchill(V_dot: float, D_h: float) -> float:\n",
    "    \"\"\"\n",
    "    Determine the Darcy friction factor using the Churchill correlation.\n",
    "    \n",
    "    Parameters:\n",
    "    V_dot - volume flow rate [ft/min]\n",
    "    D_h - Diameter of the duct [units must match those of e]\n",
    "\n",
    "    Returns:\n",
    "    The Darcy friction factor [dimensionless]\n",
    "    \"\"\"\n",
    "    \n",
    "    rho = CP.PropsSI(\"D\", \"P\", 101325, \"T\", 297, \"Air\") * 0.06243 # density of air. lbm/ft^3\n",
    "    mu = CP.PropsSI(\"V\", \"P\", 101325, \"T\", 297, \"Air\") * 0.671968994813 # viscosity, lbm-s/ft\n",
    "    m = V_dot * rho / 60 # lbm/s\n",
    "    Re = 4 * m / (math.pi * D_h * mu) # Reynolds number [dimensionless]\n",
    "    e = 0.004 #ft\n",
    "\n",
    "    A = (-2.457 * math.log(((7 / Re) ** 0.9) + (0.27 * (e / D_h)))) ** 16\n",
    "    B = (37530 / Re) ** 16\n",
    "    f_Churchill = 8 * (((8 / Re) ** 12) + (1 / ((A + B) ** 1.5))) ** (1 / 12)\n",
    "    \n",
    "    return f_Churchill"
   ]
  },
  {
   "cell_type": "code",
   "execution_count": 86,
   "metadata": {},
   "outputs": [],
   "source": [
    "def P_vel(V_dot: float, Ac: float) -> float:\n",
    "    \"\"\"\n",
    "    Determine the velocity pressure.\n",
    "    \n",
    "    Parameters:\n",
    "    V_dot - Volume flow rate [ft^3/min]\n",
    "    Ac - area [ft^2]\n",
    "    \n",
    "    \n",
    "    Returns:\n",
    "    velocity pressure [dimensionless]\n",
    "    \"\"\"\n",
    "    rho = CP.PropsSI(\"D\", \"P\", 101325, \"T\", 297, \"Air\") * 0.06243 # density of air. lbm/ft^3 \n",
    "    v = V_dot / Ac / 60 # ft/s\n",
    "    \n",
    "    return   rho * v ** 2/2 * 0.005974451 # change to  inH2O\n",
    "    "
   ]
  },
  {
   "cell_type": "markdown",
   "metadata": {},
   "source": [
    "### Problem 11.5. Fume hood pressure drop\n",
    " Two identical exhaust hoods are installed in a manufacturing plant to remove the gases from a welding process. Each hood is required to remove 500 cfm from the work area. A filter is placed in the duct to prevent solid particles from damaging the fan. A pressure drop measurement across the filter is used to determine when to replace the filter. The loss coefficient for a new filter is 5.5 and the loss coefficient for each fume hood is 3.3, and the fan is sized so that the system flow for a new filter is 1200 cfm.\\\n",
    "a. Determine the pressure loss (inches water) between the inlet to the fume hoods and the inlet to the fan for the design conditions.\\\n",
    "b. Determine the value of the pressure drop that would necessitate a change of filter."
   ]
  },
  {
   "cell_type": "markdown",
   "metadata": {},
   "source": [
    "1) Information given:"
   ]
  },
  {
   "cell_type": "code",
   "execution_count": 87,
   "metadata": {},
   "outputs": [],
   "source": [
    "P_atm = 14.7 # atmosphere pressure\n",
    "T_z = 75 \n",
    "D_1 = 9/12 # convert diameter from in to feet\n",
    "V_dot_1 = 500 # cfm\n",
    "V_dot_2 = V_dot_1 * 2\n",
    "L_1 = 15 # ft\n",
    "D_2 = 12/12 # convert diameter from in to feet\n",
    "L_2 = 10 #ft\n",
    "K_hood = 3.3 #loss coefficient for each fume hood\n",
    "K_tee = 1.34\n",
    "K_filter  = 5.5\n",
    "\n",
    "Ac_1 = math.pi * (D_1)**2/4  # area of duct, ft^2\n",
    "Ac_2 = math.pi * (D_2)**2/4 # area of duct, ft^2"
   ]
  },
  {
   "cell_type": "markdown",
   "metadata": {},
   "source": [
    "2. Calculate the air viscosity and density at standard air pressure and 75F drybulb temperature"
   ]
  },
  {
   "cell_type": "code",
   "execution_count": 88,
   "metadata": {},
   "outputs": [
    {
     "name": "stdout",
     "output_type": "stream",
     "text": [
      "viscosity = 1.235917638724685e-05 [lbm-s/ft]\n",
      "density = 0.07422407519055603 [lbm/ft^3]\n"
     ]
    }
   ],
   "source": [
    "mu = CP.PropsSI(\"V\", \"P\", 101325, \"T\", 297, \"Air\") * 0.671968994813 # viscosity, lbm-s/ft\n",
    "rho = CP.PropsSI(\"D\", \"P\", 101325, \"T\", 297, \"Air\") * 0.06243 # density of air. lbm/ft^3 \n",
    "print (\"viscosity =\", mu,'[lbm-s/ft]')\n",
    "print (\"density =\", rho, '[lbm/ft^3]')"
   ]
  },
  {
   "cell_type": "markdown",
   "metadata": {},
   "source": [
    "3. Calculate the pressure drop"
   ]
  },
  {
   "cell_type": "code",
   "execution_count": 97,
   "metadata": {},
   "outputs": [
    {
     "name": "stdout",
     "output_type": "stream",
     "text": [
      "Hood pressure drop 0.260 inH2O\n",
      "Duct (before Tee) pressure drop 0.051 inH2O\n",
      "Tee pressure drop 0.106 inH2O\n",
      "Duct (after Tee) pressure drop 0.029 inH2O\n",
      "DP_filter 0.549 H2O\n"
     ]
    }
   ],
   "source": [
    "f_1 = f_Churchill(V_dot_1, D_1)\n",
    "f_2 = f_Churchill(V_dot_2, D_2)\n",
    "P_vel_1 = P_vel(V_dot_1, Ac_1)\n",
    "P_vel_2 = P_vel(V_dot_2, Ac_2)\n",
    "DP_1 = K_hood  * P_vel_1\n",
    "DP_2 = (f_1 * (L_1/D_1)) * P_vel_1\n",
    "DP_3 = K_tee * P_vel_1\n",
    "DP_4 = (f_2 * (L_2/D_2)) * P_vel_2\n",
    "DP_filter = K_filter * P_vel_2\n",
    "\n",
    "print ('Hood pressure drop', f\"{DP_1:.3f}\",'inH2O')\n",
    "print ('Duct (before Tee) pressure drop', f\"{DP_2:.3f}\",'inH2O')\n",
    "print ('Tee pressure drop', f\"{DP_3:.3f}\",'inH2O')\n",
    "print ('Duct (after Tee) pressure drop', f\"{DP_4:.3f}\",'inH2O')\n",
    "print ('DP_filter', f\"{DP_filter:.3f}\",'inH2O')"
   ]
  }
 ],
 "metadata": {
  "kernelspec": {
   "display_name": "ce414-env",
   "language": "python",
   "name": "python3"
  },
  "language_info": {
   "codemirror_mode": {
    "name": "ipython",
    "version": 3
   },
   "file_extension": ".py",
   "mimetype": "text/x-python",
   "name": "python",
   "nbconvert_exporter": "python",
   "pygments_lexer": "ipython3",
   "version": "3.10.16"
  }
 },
 "nbformat": 4,
 "nbformat_minor": 2
}
